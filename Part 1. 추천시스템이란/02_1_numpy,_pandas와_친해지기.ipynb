{
  "nbformat": 4,
  "nbformat_minor": 0,
  "metadata": {
    "kernelspec": {
      "display_name": "Python 3",
      "language": "python",
      "name": "python3"
    },
    "language_info": {
      "codemirror_mode": {
        "name": "ipython",
        "version": 3
      },
      "file_extension": ".py",
      "mimetype": "text/x-python",
      "name": "python",
      "nbconvert_exporter": "python",
      "pygments_lexer": "ipython3",
      "version": "3.7.7"
    },
    "colab": {
      "name": "02-1-numpy, pandas와 친해지기.ipynb",
      "provenance": []
    }
  },
  "cells": [
    {
      "cell_type": "markdown",
      "metadata": {
        "id": "YIvgyKb1Q1h5"
      },
      "source": [
        "# 개요\n",
        "\n",
        "1. numpy \n",
        "2. pandas\n",
        "3. torch로 vector, matrix 등 만들어보기\n",
        "\n",
        "## 참고자료\n",
        "* Official tutorial: https://docs.scipy.org/doc/numpy/reference/\n",
        "* Stanford Univ. CS231 tutorial: http://cs231n.github.io/python-numpy-tutorial/"
      ]
    },
    {
      "cell_type": "markdown",
      "metadata": {
        "id": "7LgB6h1jQ1h6"
      },
      "source": [
        "## 1. numpy, array, matrix 등"
      ]
    },
    {
      "cell_type": "code",
      "metadata": {
        "id": "YX29rXzrQ1h7"
      },
      "source": [
        "import warnings\n",
        "warnings.filterwarnings(\"ignore\")"
      ],
      "execution_count": 1,
      "outputs": []
    },
    {
      "cell_type": "code",
      "metadata": {
        "id": "13O0gG1qQ1h9"
      },
      "source": [
        "import numpy as np"
      ],
      "execution_count": 2,
      "outputs": []
    },
    {
      "cell_type": "markdown",
      "metadata": {
        "id": "J3OHs-ITQ1h_"
      },
      "source": [
        "### 리스트, 행렬 선언"
      ]
    },
    {
      "cell_type": "code",
      "metadata": {
        "colab": {
          "base_uri": "https://localhost:8080/"
        },
        "id": "paMOcBLGQ1h_",
        "outputId": "5cddc6f7-3160-4801-b671-bfbf78cabf95"
      },
      "source": [
        "# list_name(변수명 설정) = [\"item-1\", \"item-2\", ... , \"item-n\"]\n",
        "\n",
        "a = [1, 2, 3]\n",
        "b = [\"a\", \"b\", \"c\"]\n",
        "c = [[\"a\"], [\"a\", \"b\"], [\"a\", \"c\"], [\"a\", \"b\", \"c\"]]\n",
        "\n",
        "print(a)\n",
        "print(b)\n",
        "print(c)"
      ],
      "execution_count": 6,
      "outputs": [
        {
          "output_type": "stream",
          "text": [
            "[1, 2, 3]\n",
            "['a', 'b', 'c']\n",
            "[['a'], ['a', 'b'], ['a', 'c'], ['a', 'b', 'c']]\n"
          ],
          "name": "stdout"
        }
      ]
    },
    {
      "cell_type": "code",
      "metadata": {
        "colab": {
          "base_uri": "https://localhost:8080/"
        },
        "id": "LNcHRM59Q1iA",
        "outputId": "c5ce8a63-0121-48ae-a9b2-7912acea175b"
      },
      "source": [
        "# append()로 리스트에 item 추가하기\n",
        "c.append('new_item')\n",
        "c.append(['new_item_list'])\n",
        "\n",
        "print(c)"
      ],
      "execution_count": 7,
      "outputs": [
        {
          "output_type": "stream",
          "text": [
            "[['a'], ['a', 'b'], ['a', 'c'], ['a', 'b', 'c'], 'new_item', ['new_item_list']]\n"
          ],
          "name": "stdout"
        }
      ]
    },
    {
      "cell_type": "code",
      "metadata": {
        "colab": {
          "base_uri": "https://localhost:8080/"
        },
        "id": "7L6Rojo5Q1iA",
        "outputId": "bc217bf5-c111-4db8-80fe-ea60517b230f"
      },
      "source": [
        "a = np.array([1, 2, 3])\n",
        "b = np.array([\"a\", \"b\", \"c\"])\n",
        "c = np.array([[\"a\"], [\"a\", \"b\"], [\"a\", \"c\"], [\"a\", \"b\", \"c\"]])\n",
        "\n",
        "print(a)\n",
        "print(b)\n",
        "print(c)"
      ],
      "execution_count": 9,
      "outputs": [
        {
          "output_type": "stream",
          "text": [
            "[1 2 3]\n",
            "['a' 'b' 'c']\n",
            "[list(['a']) list(['a', 'b']) list(['a', 'c']) list(['a', 'b', 'c'])]\n"
          ],
          "name": "stdout"
        }
      ]
    },
    {
      "cell_type": "code",
      "metadata": {
        "colab": {
          "base_uri": "https://localhost:8080/"
        },
        "id": "CWbxWmpaQ1iB",
        "outputId": "97eafdc5-02a8-409e-9329-454c22e1921c"
      },
      "source": [
        "# 배열(또는 행렬)을 1로 채우기\n",
        "print(np.ones((1, 5)))\n",
        "print(np.ones((3, 2)))"
      ],
      "execution_count": 10,
      "outputs": [
        {
          "output_type": "stream",
          "text": [
            "[[1. 1. 1. 1. 1.]]\n",
            "[[1. 1.]\n",
            " [1. 1.]\n",
            " [1. 1.]]\n"
          ],
          "name": "stdout"
        }
      ]
    },
    {
      "cell_type": "code",
      "metadata": {
        "colab": {
          "base_uri": "https://localhost:8080/"
        },
        "id": "_9NYRk33Q1iB",
        "outputId": "3bde86c4-0065-4cf3-95f5-7733df8d80f2"
      },
      "source": [
        "# 배열(또는 행렬)을 0으로 채우기\n",
        "print(np.zeros((1, 5)))\n",
        "print(np.zeros((3, 2)))"
      ],
      "execution_count": 11,
      "outputs": [
        {
          "output_type": "stream",
          "text": [
            "[[0. 0. 0. 0. 0.]]\n",
            "[[0. 0.]\n",
            " [0. 0.]\n",
            " [0. 0.]]\n"
          ],
          "name": "stdout"
        }
      ]
    },
    {
      "cell_type": "code",
      "metadata": {
        "colab": {
          "base_uri": "https://localhost:8080/"
        },
        "id": "AxOuQR1iQ1iB",
        "outputId": "6b85ddcd-3078-40e7-a841-2032a5c9a05f"
      },
      "source": [
        "# 주어진 범위 안에서 순차적으로 증가하는 리스트 만들기\n",
        "# np.arange([start,] stop, [step, ] dtype=None)\n",
        "\n",
        "print(np.arange(10))\n",
        "print(np.arange(3,7, dtype=np.float))\n",
        "print(np.arange(3,10,2))"
      ],
      "execution_count": 12,
      "outputs": [
        {
          "output_type": "stream",
          "text": [
            "[0 1 2 3 4 5 6 7 8 9]\n",
            "[3. 4. 5. 6.]\n",
            "[3 5 7 9]\n"
          ],
          "name": "stdout"
        }
      ]
    },
    {
      "cell_type": "code",
      "metadata": {
        "colab": {
          "base_uri": "https://localhost:8080/"
        },
        "id": "TL1Bg6ncQ1iC",
        "outputId": "15dd4a0d-789b-4e37-d00c-8267fcce9f07"
      },
      "source": [
        "# 행렬 선언하기\n",
        "mat1 = np.array([[1,2,3],[4,5,6]])\n",
        "\n",
        "# random으로 matrix 만들기\n",
        "mat2 = np.random.randint(low=1, high=10, size=(3,2))\n",
        "mat3 = np.random.rand(3,2) # 정규분포를 따르는 3x2\n",
        "\n",
        "print(mat1)\n",
        "print(mat2)\n",
        "print(mat3)"
      ],
      "execution_count": 15,
      "outputs": [
        {
          "output_type": "stream",
          "text": [
            "[[1 2 3]\n",
            " [4 5 6]]\n",
            "[[9 5]\n",
            " [3 3]\n",
            " [2 6]]\n",
            "[[0.65621424 0.03783443]\n",
            " [0.72841212 0.54509803]\n",
            " [0.35756357 0.30584737]]\n"
          ],
          "name": "stdout"
        }
      ]
    },
    {
      "cell_type": "markdown",
      "metadata": {
        "id": "ivhyxXoGQ1iC"
      },
      "source": [
        "### 리스트 인덱싱(Indexing) & 슬라이싱(Slicing)"
      ]
    },
    {
      "cell_type": "code",
      "metadata": {
        "colab": {
          "base_uri": "https://localhost:8080/"
        },
        "id": "v3ZYnBtZQ1iC",
        "outputId": "a0925bb5-4f86-4c1b-eaaf-7f13f427a3d3"
      },
      "source": [
        "# Indexing\n",
        "a = [1,3,5,7,9,11]\n",
        "print(a[2], a[5], a[-1])"
      ],
      "execution_count": 16,
      "outputs": [
        {
          "output_type": "stream",
          "text": [
            "5 11 11\n"
          ],
          "name": "stdout"
        }
      ]
    },
    {
      "cell_type": "code",
      "metadata": {
        "colab": {
          "base_uri": "https://localhost:8080/"
        },
        "id": "HrcL_YOQQ1iD",
        "outputId": "ed6715d8-fa05-44d5-c87b-7adb9a61a8b4"
      },
      "source": [
        "# Slicing\n",
        "b = [2,4,6,8,10]\n",
        "print(b[2:])\n",
        "print(b[:2])\n",
        "print(b[:])"
      ],
      "execution_count": 17,
      "outputs": [
        {
          "output_type": "stream",
          "text": [
            "[6, 8, 10]\n",
            "[2, 4]\n",
            "[2, 4, 6, 8, 10]\n"
          ],
          "name": "stdout"
        }
      ]
    },
    {
      "cell_type": "markdown",
      "metadata": {
        "id": "5cc2oeFuQ1iD"
      },
      "source": [
        "### numpy의 reshape (PyTorch의 view와 비교)"
      ]
    },
    {
      "cell_type": "code",
      "metadata": {
        "colab": {
          "base_uri": "https://localhost:8080/"
        },
        "id": "CvyQ1JKaQ1iD",
        "outputId": "7f1969b9-5351-4719-cab0-f0fa2262260e"
      },
      "source": [
        "# (row, column)\n",
        "mat1 = np.random.rand(6,3)\n",
        "print(mat1)"
      ],
      "execution_count": 18,
      "outputs": [
        {
          "output_type": "stream",
          "text": [
            "[[0.50760895 0.94128393 0.56133354]\n",
            " [0.46457844 0.84402729 0.59545319]\n",
            " [0.11062589 0.6834279  0.6105375 ]\n",
            " [0.70978288 0.91464269 0.97855119]\n",
            " [0.16630519 0.54375376 0.00149751]\n",
            " [0.26494625 0.42076476 0.32283679]]\n"
          ],
          "name": "stdout"
        }
      ]
    },
    {
      "cell_type": "code",
      "metadata": {
        "colab": {
          "base_uri": "https://localhost:8080/"
        },
        "id": "oUGvTZyZQ1iE",
        "outputId": "4fa3ed4f-4c6b-4431-be82-07681dfd802c"
      },
      "source": [
        "# -1: all\n",
        "print(mat1.reshape(1, -1).shape)\n",
        "print(mat1.reshape(1, -1))\n",
        "print(\"=====\")\n",
        "print(mat1.reshape(-1, 1).shape)\n",
        "print(mat1.reshape(-1, 1))"
      ],
      "execution_count": 19,
      "outputs": [
        {
          "output_type": "stream",
          "text": [
            "(1, 18)\n",
            "[[0.50760895 0.94128393 0.56133354 0.46457844 0.84402729 0.59545319\n",
            "  0.11062589 0.6834279  0.6105375  0.70978288 0.91464269 0.97855119\n",
            "  0.16630519 0.54375376 0.00149751 0.26494625 0.42076476 0.32283679]]\n",
            "=====\n",
            "(18, 1)\n",
            "[[0.50760895]\n",
            " [0.94128393]\n",
            " [0.56133354]\n",
            " [0.46457844]\n",
            " [0.84402729]\n",
            " [0.59545319]\n",
            " [0.11062589]\n",
            " [0.6834279 ]\n",
            " [0.6105375 ]\n",
            " [0.70978288]\n",
            " [0.91464269]\n",
            " [0.97855119]\n",
            " [0.16630519]\n",
            " [0.54375376]\n",
            " [0.00149751]\n",
            " [0.26494625]\n",
            " [0.42076476]\n",
            " [0.32283679]]\n"
          ],
          "name": "stdout"
        }
      ]
    },
    {
      "cell_type": "code",
      "metadata": {
        "colab": {
          "base_uri": "https://localhost:8080/"
        },
        "id": "FKoDxi2pQ1iE",
        "outputId": "6c5b10d5-daa9-4358-da45-d1868177d814"
      },
      "source": [
        "print(mat1.reshape(2, 9).shape)\n",
        "print(mat1.reshape(9, 2))"
      ],
      "execution_count": 20,
      "outputs": [
        {
          "output_type": "stream",
          "text": [
            "(2, 9)\n",
            "[[0.50760895 0.94128393]\n",
            " [0.56133354 0.46457844]\n",
            " [0.84402729 0.59545319]\n",
            " [0.11062589 0.6834279 ]\n",
            " [0.6105375  0.70978288]\n",
            " [0.91464269 0.97855119]\n",
            " [0.16630519 0.54375376]\n",
            " [0.00149751 0.26494625]\n",
            " [0.42076476 0.32283679]]\n"
          ],
          "name": "stdout"
        }
      ]
    },
    {
      "cell_type": "code",
      "metadata": {
        "colab": {
          "base_uri": "https://localhost:8080/",
          "height": 164
        },
        "id": "GKR01AsxQ1iE",
        "outputId": "1ba445a5-02d4-48c6-9c3f-e623fac18ca6"
      },
      "source": [
        "mat1.reshape(2,5)"
      ],
      "execution_count": 21,
      "outputs": [
        {
          "output_type": "error",
          "ename": "ValueError",
          "evalue": "ignored",
          "traceback": [
            "\u001b[0;31m---------------------------------------------------------------------------\u001b[0m",
            "\u001b[0;31mValueError\u001b[0m                                Traceback (most recent call last)",
            "\u001b[0;32m<ipython-input-21-634a26252eb7>\u001b[0m in \u001b[0;36m<module>\u001b[0;34m()\u001b[0m\n\u001b[0;32m----> 1\u001b[0;31m \u001b[0mmat1\u001b[0m\u001b[0;34m.\u001b[0m\u001b[0mreshape\u001b[0m\u001b[0;34m(\u001b[0m\u001b[0;36m2\u001b[0m\u001b[0;34m,\u001b[0m\u001b[0;36m5\u001b[0m\u001b[0;34m)\u001b[0m\u001b[0;34m\u001b[0m\u001b[0;34m\u001b[0m\u001b[0m\n\u001b[0m",
            "\u001b[0;31mValueError\u001b[0m: cannot reshape array of size 18 into shape (2,5)"
          ]
        }
      ]
    },
    {
      "cell_type": "code",
      "metadata": {
        "colab": {
          "base_uri": "https://localhost:8080/"
        },
        "id": "UPSSlA70Q1iF",
        "outputId": "55ebe65d-0396-41c0-9d98-1836964567ca"
      },
      "source": [
        "# tensor 형태로 나타내기\n",
        "print(mat1.reshape(3,2,3).shape)\n",
        "print(mat1.reshape(3,2,3)) # 2x3 3개"
      ],
      "execution_count": 22,
      "outputs": [
        {
          "output_type": "stream",
          "text": [
            "(3, 2, 3)\n",
            "[[[0.50760895 0.94128393 0.56133354]\n",
            "  [0.46457844 0.84402729 0.59545319]]\n",
            "\n",
            " [[0.11062589 0.6834279  0.6105375 ]\n",
            "  [0.70978288 0.91464269 0.97855119]]\n",
            "\n",
            " [[0.16630519 0.54375376 0.00149751]\n",
            "  [0.26494625 0.42076476 0.32283679]]]\n"
          ],
          "name": "stdout"
        }
      ]
    },
    {
      "cell_type": "markdown",
      "metadata": {
        "id": "Yh-m7pIBQ1iG"
      },
      "source": [
        "### matrix 또는 tensor 형태에서도 slicing이 가능합니다!"
      ]
    },
    {
      "cell_type": "code",
      "metadata": {
        "colab": {
          "base_uri": "https://localhost:8080/"
        },
        "id": "NHOSjNKGQ1iG",
        "outputId": "36c5c77c-4833-4ef3-86de-7ff110d4be2a"
      },
      "source": [
        "mat2 = np.arange(24).reshape(-1, 4)\n",
        "print(mat2)"
      ],
      "execution_count": 26,
      "outputs": [
        {
          "output_type": "stream",
          "text": [
            "[[ 0  1  2  3]\n",
            " [ 4  5  6  7]\n",
            " [ 8  9 10 11]\n",
            " [12 13 14 15]\n",
            " [16 17 18 19]\n",
            " [20 21 22 23]]\n"
          ],
          "name": "stdout"
        }
      ]
    },
    {
      "cell_type": "code",
      "metadata": {
        "colab": {
          "base_uri": "https://localhost:8080/"
        },
        "id": "djqkdcRvQ1iH",
        "outputId": "6468b30e-1c19-4040-c349-ec82512e6aff"
      },
      "source": [
        "mat2[:1,:3] # 첫 번째 = 행, 두 번째 = 열"
      ],
      "execution_count": 27,
      "outputs": [
        {
          "output_type": "execute_result",
          "data": {
            "text/plain": [
              "array([[0, 1, 2]])"
            ]
          },
          "metadata": {
            "tags": []
          },
          "execution_count": 27
        }
      ]
    },
    {
      "cell_type": "code",
      "metadata": {
        "colab": {
          "base_uri": "https://localhost:8080/"
        },
        "id": "dl9l7Z2KQ1iH",
        "outputId": "18c39a0d-8eac-44ef-c190-0bb2b81eac72"
      },
      "source": [
        "mat2[3, 0:2]"
      ],
      "execution_count": 28,
      "outputs": [
        {
          "output_type": "execute_result",
          "data": {
            "text/plain": [
              "array([12, 13])"
            ]
          },
          "metadata": {
            "tags": []
          },
          "execution_count": 28
        }
      ]
    },
    {
      "cell_type": "markdown",
      "metadata": {
        "id": "N_4oicxLQ1iH"
      },
      "source": [
        "### Math Arithmetic Operations(사칙연산)"
      ]
    },
    {
      "cell_type": "code",
      "metadata": {
        "colab": {
          "base_uri": "https://localhost:8080/"
        },
        "id": "-94-X-y0Q1iH",
        "outputId": "7645883d-3450-4e0c-c460-cb96d3dae8c6"
      },
      "source": [
        "x = np.array([[1,3,5],[7,9,11],[13,15,17]])\n",
        "y = np.array([[2,4,6],[8,10,12],[14,16,18]])\n",
        "\n",
        "print(x)\n",
        "print(y)"
      ],
      "execution_count": 29,
      "outputs": [
        {
          "output_type": "stream",
          "text": [
            "[[ 1  3  5]\n",
            " [ 7  9 11]\n",
            " [13 15 17]]\n",
            "[[ 2  4  6]\n",
            " [ 8 10 12]\n",
            " [14 16 18]]\n"
          ],
          "name": "stdout"
        }
      ]
    },
    {
      "cell_type": "code",
      "metadata": {
        "colab": {
          "base_uri": "https://localhost:8080/"
        },
        "id": "Cwc_8sBfQ1iH",
        "outputId": "103c92e7-1bd1-4146-d1ba-1f891beee1f8"
      },
      "source": [
        "# add\n",
        "x + y"
      ],
      "execution_count": 30,
      "outputs": [
        {
          "output_type": "execute_result",
          "data": {
            "text/plain": [
              "array([[ 3,  7, 11],\n",
              "       [15, 19, 23],\n",
              "       [27, 31, 35]])"
            ]
          },
          "metadata": {
            "tags": []
          },
          "execution_count": 30
        }
      ]
    },
    {
      "cell_type": "code",
      "metadata": {
        "colab": {
          "base_uri": "https://localhost:8080/"
        },
        "id": "t0MIAqYSQ1iI",
        "outputId": "2632b955-086f-4cba-8382-baafbd207704"
      },
      "source": [
        "x - y"
      ],
      "execution_count": 31,
      "outputs": [
        {
          "output_type": "execute_result",
          "data": {
            "text/plain": [
              "array([[-1, -1, -1],\n",
              "       [-1, -1, -1],\n",
              "       [-1, -1, -1]])"
            ]
          },
          "metadata": {
            "tags": []
          },
          "execution_count": 31
        }
      ]
    },
    {
      "cell_type": "code",
      "metadata": {
        "colab": {
          "base_uri": "https://localhost:8080/"
        },
        "id": "m1kX7wIRQ1iI",
        "outputId": "bafb07f8-d103-4f13-a9f5-7817a9b279ef"
      },
      "source": [
        "x * y"
      ],
      "execution_count": 32,
      "outputs": [
        {
          "output_type": "execute_result",
          "data": {
            "text/plain": [
              "array([[  2,  12,  30],\n",
              "       [ 56,  90, 132],\n",
              "       [182, 240, 306]])"
            ]
          },
          "metadata": {
            "tags": []
          },
          "execution_count": 32
        }
      ]
    },
    {
      "cell_type": "code",
      "metadata": {
        "colab": {
          "base_uri": "https://localhost:8080/"
        },
        "id": "CK8go-BRQ1iI",
        "outputId": "c1a0839e-123f-4806-f451-bbd08af8a71e"
      },
      "source": [
        "x / y"
      ],
      "execution_count": 33,
      "outputs": [
        {
          "output_type": "execute_result",
          "data": {
            "text/plain": [
              "array([[0.5       , 0.75      , 0.83333333],\n",
              "       [0.875     , 0.9       , 0.91666667],\n",
              "       [0.92857143, 0.9375    , 0.94444444]])"
            ]
          },
          "metadata": {
            "tags": []
          },
          "execution_count": 33
        }
      ]
    },
    {
      "cell_type": "code",
      "metadata": {
        "colab": {
          "base_uri": "https://localhost:8080/"
        },
        "id": "4YNzR-G6Q1iI",
        "outputId": "007efe48-214b-47b2-d4b4-6a6fb688628a"
      },
      "source": [
        "print(x ** 2)\n",
        "print(np.power(x, 2))"
      ],
      "execution_count": 34,
      "outputs": [
        {
          "output_type": "stream",
          "text": [
            "[[  1   9  25]\n",
            " [ 49  81 121]\n",
            " [169 225 289]]\n",
            "[[  1   9  25]\n",
            " [ 49  81 121]\n",
            " [169 225 289]]\n"
          ],
          "name": "stdout"
        }
      ]
    },
    {
      "cell_type": "code",
      "metadata": {
        "colab": {
          "base_uri": "https://localhost:8080/"
        },
        "id": "KFtC837ZQ1iI",
        "outputId": "7c072e7e-0147-456d-ad0f-5a9cd7aff5b9"
      },
      "source": [
        "np.dot(x, y)"
      ],
      "execution_count": 35,
      "outputs": [
        {
          "output_type": "execute_result",
          "data": {
            "text/plain": [
              "array([[ 96, 114, 132],\n",
              "       [240, 294, 348],\n",
              "       [384, 474, 564]])"
            ]
          },
          "metadata": {
            "tags": []
          },
          "execution_count": 35
        }
      ]
    },
    {
      "cell_type": "code",
      "metadata": {
        "colab": {
          "base_uri": "https://localhost:8080/"
        },
        "id": "BYBruW5wQ1iJ",
        "outputId": "55121fcf-603e-4c95-e55c-d6f4711cdd2e"
      },
      "source": [
        "np.sqrt(x)"
      ],
      "execution_count": 36,
      "outputs": [
        {
          "output_type": "execute_result",
          "data": {
            "text/plain": [
              "array([[1.        , 1.73205081, 2.23606798],\n",
              "       [2.64575131, 3.        , 3.31662479],\n",
              "       [3.60555128, 3.87298335, 4.12310563]])"
            ]
          },
          "metadata": {
            "tags": []
          },
          "execution_count": 36
        }
      ]
    },
    {
      "cell_type": "code",
      "metadata": {
        "colab": {
          "base_uri": "https://localhost:8080/"
        },
        "id": "0JzhvOcPQ1iJ",
        "outputId": "0d484aa0-d8a7-4d1b-aab0-d0bc03480eb3"
      },
      "source": [
        "# More on matrix operation\n",
        "z1 = np.array([[2,2,2]])\n",
        "z2 = np.array([[2,2]])\n",
        "\n",
        "x * z1"
      ],
      "execution_count": 37,
      "outputs": [
        {
          "output_type": "execute_result",
          "data": {
            "text/plain": [
              "array([[ 2,  6, 10],\n",
              "       [14, 18, 22],\n",
              "       [26, 30, 34]])"
            ]
          },
          "metadata": {
            "tags": []
          },
          "execution_count": 37
        }
      ]
    },
    {
      "cell_type": "code",
      "metadata": {
        "colab": {
          "base_uri": "https://localhost:8080/",
          "height": 232
        },
        "id": "FoeyqAafQ1iJ",
        "outputId": "54edd50f-0dad-43bb-ff8a-a1808229c07a"
      },
      "source": [
        "print(z2.shape)\n",
        "print(x.shape)\n",
        "print(x * z2)"
      ],
      "execution_count": 38,
      "outputs": [
        {
          "output_type": "stream",
          "text": [
            "(1, 2)\n",
            "(3, 3)\n"
          ],
          "name": "stdout"
        },
        {
          "output_type": "error",
          "ename": "ValueError",
          "evalue": "ignored",
          "traceback": [
            "\u001b[0;31m---------------------------------------------------------------------------\u001b[0m",
            "\u001b[0;31mValueError\u001b[0m                                Traceback (most recent call last)",
            "\u001b[0;32m<ipython-input-38-15d0b692d74e>\u001b[0m in \u001b[0;36m<module>\u001b[0;34m()\u001b[0m\n\u001b[1;32m      1\u001b[0m \u001b[0mprint\u001b[0m\u001b[0;34m(\u001b[0m\u001b[0mz2\u001b[0m\u001b[0;34m.\u001b[0m\u001b[0mshape\u001b[0m\u001b[0;34m)\u001b[0m\u001b[0;34m\u001b[0m\u001b[0;34m\u001b[0m\u001b[0m\n\u001b[1;32m      2\u001b[0m \u001b[0mprint\u001b[0m\u001b[0;34m(\u001b[0m\u001b[0mx\u001b[0m\u001b[0;34m.\u001b[0m\u001b[0mshape\u001b[0m\u001b[0;34m)\u001b[0m\u001b[0;34m\u001b[0m\u001b[0;34m\u001b[0m\u001b[0m\n\u001b[0;32m----> 3\u001b[0;31m \u001b[0mprint\u001b[0m\u001b[0;34m(\u001b[0m\u001b[0mx\u001b[0m \u001b[0;34m*\u001b[0m \u001b[0mz2\u001b[0m\u001b[0;34m)\u001b[0m\u001b[0;34m\u001b[0m\u001b[0;34m\u001b[0m\u001b[0m\n\u001b[0m",
            "\u001b[0;31mValueError\u001b[0m: operands could not be broadcast together with shapes (3,3) (1,2) "
          ]
        }
      ]
    },
    {
      "cell_type": "code",
      "metadata": {
        "colab": {
          "base_uri": "https://localhost:8080/"
        },
        "id": "jTo0qtmsQ1iJ",
        "outputId": "2cf9c17d-9ced-4d8b-81c0-f84febb0f49b"
      },
      "source": [
        "# 합\n",
        "print(x)\n",
        "print(x.sum(axis = 0))\n",
        "print(x.sum(axis = 1))"
      ],
      "execution_count": 39,
      "outputs": [
        {
          "output_type": "stream",
          "text": [
            "[[ 1  3  5]\n",
            " [ 7  9 11]\n",
            " [13 15 17]]\n",
            "[21 27 33]\n",
            "[ 9 27 45]\n"
          ],
          "name": "stdout"
        }
      ]
    },
    {
      "cell_type": "code",
      "metadata": {
        "colab": {
          "base_uri": "https://localhost:8080/"
        },
        "id": "Tst20AyFQ1iJ",
        "outputId": "0561de90-3604-42eb-f167-1dff338cf66c"
      },
      "source": [
        "# 평균\n",
        "print(x)\n",
        "print(x.mean(axis = 0))\n",
        "print(x.mean(axis = 1))"
      ],
      "execution_count": 40,
      "outputs": [
        {
          "output_type": "stream",
          "text": [
            "[[ 1  3  5]\n",
            " [ 7  9 11]\n",
            " [13 15 17]]\n",
            "[ 7.  9. 11.]\n",
            "[ 3.  9. 15.]\n"
          ],
          "name": "stdout"
        }
      ]
    },
    {
      "cell_type": "code",
      "metadata": {
        "colab": {
          "base_uri": "https://localhost:8080/"
        },
        "id": "ZpJ8grDLQ1iK",
        "outputId": "5e970e7d-c567-4baf-8a98-adf9a8662e4d"
      },
      "source": [
        "# 표준편차\n",
        "print(x)\n",
        "print(x.std(axis = 0))\n",
        "print(x.std(axis = 1))"
      ],
      "execution_count": 41,
      "outputs": [
        {
          "output_type": "stream",
          "text": [
            "[[ 1  3  5]\n",
            " [ 7  9 11]\n",
            " [13 15 17]]\n",
            "[4.89897949 4.89897949 4.89897949]\n",
            "[1.63299316 1.63299316 1.63299316]\n"
          ],
          "name": "stdout"
        }
      ]
    },
    {
      "cell_type": "code",
      "metadata": {
        "colab": {
          "base_uri": "https://localhost:8080/"
        },
        "id": "FdA43esUQ1iK",
        "outputId": "06a0f303-b6d9-40ee-d213-f2f8c84bb588"
      },
      "source": [
        "print(x.T)\n",
        "print(np.dot(x, z1.T))"
      ],
      "execution_count": 42,
      "outputs": [
        {
          "output_type": "stream",
          "text": [
            "[[ 1  7 13]\n",
            " [ 3  9 15]\n",
            " [ 5 11 17]]\n",
            "[[18]\n",
            " [54]\n",
            " [90]]\n"
          ],
          "name": "stdout"
        }
      ]
    },
    {
      "cell_type": "markdown",
      "metadata": {
        "id": "NXW-jixIQ1iK"
      },
      "source": [
        "### Other operations"
      ]
    },
    {
      "cell_type": "code",
      "metadata": {
        "colab": {
          "base_uri": "https://localhost:8080/"
        },
        "id": "_9k0WwLpQ1iK",
        "outputId": "e0a9507d-3965-41c0-aca3-eb4809865298"
      },
      "source": [
        "xx = np.random.rand(15)\n",
        "print(xx)"
      ],
      "execution_count": 51,
      "outputs": [
        {
          "output_type": "stream",
          "text": [
            "[0.72872144 0.56718499 0.33233493 0.1713851  0.44423526 0.24934422\n",
            " 0.43851747 0.11118081 0.4168039  0.90190616 0.273644   0.80554543\n",
            " 0.16555263 0.54773768 0.00986939]\n"
          ],
          "name": "stdout"
        }
      ]
    },
    {
      "cell_type": "code",
      "metadata": {
        "colab": {
          "base_uri": "https://localhost:8080/"
        },
        "id": "1jlAFMC4Q1iK",
        "outputId": "4b392b3d-3743-4cfd-b5c5-811e1b33b5d1"
      },
      "source": [
        "print(xx)\n",
        "print(xx.argsort()) # axis를 활용해서 행렬(matrix)에도 적용할 수 있다.\n",
        "xx.sort()\n",
        "print(xx)"
      ],
      "execution_count": 53,
      "outputs": [
        {
          "output_type": "stream",
          "text": [
            "[0.00986939 0.11118081 0.16555263 0.1713851  0.24934422 0.273644\n",
            " 0.33233493 0.4168039  0.43851747 0.44423526 0.54773768 0.56718499\n",
            " 0.72872144 0.80554543 0.90190616]\n",
            "[ 0  1  2  3  4  5  6  7  8  9 10 11 12 13 14]\n",
            "[0.00986939 0.11118081 0.16555263 0.1713851  0.24934422 0.273644\n",
            " 0.33233493 0.4168039  0.43851747 0.44423526 0.54773768 0.56718499\n",
            " 0.72872144 0.80554543 0.90190616]\n"
          ],
          "name": "stdout"
        }
      ]
    },
    {
      "cell_type": "markdown",
      "metadata": {
        "id": "hDVHT8v9Q1iL"
      },
      "source": [
        "## 2. Pandas\n",
        "\n",
        "* https://pandas.pydata.org/pandas-docs/stable/"
      ]
    },
    {
      "cell_type": "code",
      "metadata": {
        "id": "1rFpboKnQ1iL"
      },
      "source": [
        "import pandas as pd"
      ],
      "execution_count": 54,
      "outputs": []
    },
    {
      "cell_type": "markdown",
      "metadata": {
        "id": "hCpsV5lyQ1iL"
      },
      "source": [
        "### Pandas Series 만들기\n",
        "\n",
        "* pandas series는 1차원 데이터 집합"
      ]
    },
    {
      "cell_type": "code",
      "metadata": {
        "colab": {
          "base_uri": "https://localhost:8080/"
        },
        "id": "lD-v9NxHQ1iL",
        "outputId": "7ddb55ee-6a75-43f2-9f0b-433a3e2971f8"
      },
      "source": [
        "pd_series = pd.Series(index = ['a','b','c','d','e'], data=[1,2,3,4,5])\n",
        "pd_series"
      ],
      "execution_count": 55,
      "outputs": [
        {
          "output_type": "execute_result",
          "data": {
            "text/plain": [
              "a    1\n",
              "b    2\n",
              "c    3\n",
              "d    4\n",
              "e    5\n",
              "dtype: int64"
            ]
          },
          "metadata": {
            "tags": []
          },
          "execution_count": 55
        }
      ]
    },
    {
      "cell_type": "code",
      "metadata": {
        "colab": {
          "base_uri": "https://localhost:8080/"
        },
        "id": "fl2l5zGKQ1iM",
        "outputId": "fb874d27-71ce-48bc-9e07-a6976b3417f7"
      },
      "source": [
        "# Pandas Series의 기초 정보\n",
        "print('차원:', pd_series.ndim)\n",
        "print('형태: ', pd_series.shape)\n",
        "print('총 원소의 수:', pd_series.size)\n",
        "\n",
        "print('값:', pd_series.values)\n",
        "print('인덱스:', pd_series.index)"
      ],
      "execution_count": 56,
      "outputs": [
        {
          "output_type": "stream",
          "text": [
            "차원: 1\n",
            "형태:  (5,)\n",
            "총 원소의 수: 5\n",
            "값: [1 2 3 4 5]\n",
            "인덱스: Index(['a', 'b', 'c', 'd', 'e'], dtype='object')\n"
          ],
          "name": "stdout"
        }
      ]
    },
    {
      "cell_type": "markdown",
      "metadata": {
        "id": "KpmhDOuvQ1iM"
      },
      "source": [
        "### index를 활용한 데이터 탐색"
      ]
    },
    {
      "cell_type": "code",
      "metadata": {
        "colab": {
          "base_uri": "https://localhost:8080/"
        },
        "id": "Rx6p4fLAQ1iM",
        "outputId": "2b7079ec-e829-40db-e47b-95be7e3ec03d"
      },
      "source": [
        "# loc(index를 활용하여 access), iloc(integer location)\n",
        "\n",
        "print(pd_series.loc['a'])\n",
        "print(pd_series.iloc[0])\n",
        "\n",
        "print(pd_series.loc[['a','c']])\n",
        "print(pd_series.iloc[[0,2]])"
      ],
      "execution_count": 57,
      "outputs": [
        {
          "output_type": "stream",
          "text": [
            "1\n",
            "1\n",
            "a    1\n",
            "c    3\n",
            "dtype: int64\n",
            "a    1\n",
            "c    3\n",
            "dtype: int64\n"
          ],
          "name": "stdout"
        }
      ]
    },
    {
      "cell_type": "markdown",
      "metadata": {
        "id": "Cot-dDxIQ1iN"
      },
      "source": [
        "### 데이터 삭제"
      ]
    },
    {
      "cell_type": "code",
      "metadata": {
        "colab": {
          "base_uri": "https://localhost:8080/"
        },
        "id": "qCkLQtPnQ1iN",
        "outputId": "2cc301c2-3a21-4bf4-ed9a-8b70c6440b6b"
      },
      "source": [
        "pd_series.drop('b')"
      ],
      "execution_count": 58,
      "outputs": [
        {
          "output_type": "execute_result",
          "data": {
            "text/plain": [
              "a    1\n",
              "c    3\n",
              "d    4\n",
              "e    5\n",
              "dtype: int64"
            ]
          },
          "metadata": {
            "tags": []
          },
          "execution_count": 58
        }
      ]
    },
    {
      "cell_type": "code",
      "metadata": {
        "colab": {
          "base_uri": "https://localhost:8080/"
        },
        "id": "Gum__OO-Q1iN",
        "outputId": "6d258c0e-0e57-40cf-dbe0-a6e0bb0fb8ed"
      },
      "source": [
        "print(pd_series)\n",
        "pd_series.drop('b', inplace=True)\n",
        "print(pd_series)"
      ],
      "execution_count": 59,
      "outputs": [
        {
          "output_type": "stream",
          "text": [
            "a    1\n",
            "b    2\n",
            "c    3\n",
            "d    4\n",
            "e    5\n",
            "dtype: int64\n",
            "a    1\n",
            "c    3\n",
            "d    4\n",
            "e    5\n",
            "dtype: int64\n"
          ],
          "name": "stdout"
        }
      ]
    },
    {
      "cell_type": "markdown",
      "metadata": {
        "id": "evE-8DhGQ1iN"
      },
      "source": [
        "### Pandas Dataframe 만들기\n",
        "\n",
        "* 2차원 데이터 집합. 행렬과 비슷하게 row와 column을 갖고 있다"
      ]
    },
    {
      "cell_type": "code",
      "metadata": {
        "id": "Ct1OW3zmQ1iO"
      },
      "source": [
        "data = {\n",
        "    'A': np.arange(15),\n",
        "    'B': np.random.randint(low=0, high=15, size=(15)),\n",
        "    'C': np.random.rand(15)\n",
        "}\n",
        "\n",
        "data_df = pd.DataFrame(data)"
      ],
      "execution_count": 60,
      "outputs": []
    },
    {
      "cell_type": "code",
      "metadata": {
        "colab": {
          "base_uri": "https://localhost:8080/",
          "height": 514
        },
        "id": "q8KZGuj8X0De",
        "outputId": "2dd70a0d-cd5e-4bfe-ee2b-9ace58e0943c"
      },
      "source": [
        "data_df"
      ],
      "execution_count": 62,
      "outputs": [
        {
          "output_type": "execute_result",
          "data": {
            "text/html": [
              "<div>\n",
              "<style scoped>\n",
              "    .dataframe tbody tr th:only-of-type {\n",
              "        vertical-align: middle;\n",
              "    }\n",
              "\n",
              "    .dataframe tbody tr th {\n",
              "        vertical-align: top;\n",
              "    }\n",
              "\n",
              "    .dataframe thead th {\n",
              "        text-align: right;\n",
              "    }\n",
              "</style>\n",
              "<table border=\"1\" class=\"dataframe\">\n",
              "  <thead>\n",
              "    <tr style=\"text-align: right;\">\n",
              "      <th></th>\n",
              "      <th>A</th>\n",
              "      <th>B</th>\n",
              "      <th>C</th>\n",
              "    </tr>\n",
              "  </thead>\n",
              "  <tbody>\n",
              "    <tr>\n",
              "      <th>0</th>\n",
              "      <td>0</td>\n",
              "      <td>7</td>\n",
              "      <td>0.618879</td>\n",
              "    </tr>\n",
              "    <tr>\n",
              "      <th>1</th>\n",
              "      <td>1</td>\n",
              "      <td>4</td>\n",
              "      <td>0.128281</td>\n",
              "    </tr>\n",
              "    <tr>\n",
              "      <th>2</th>\n",
              "      <td>2</td>\n",
              "      <td>10</td>\n",
              "      <td>0.899273</td>\n",
              "    </tr>\n",
              "    <tr>\n",
              "      <th>3</th>\n",
              "      <td>3</td>\n",
              "      <td>9</td>\n",
              "      <td>0.109899</td>\n",
              "    </tr>\n",
              "    <tr>\n",
              "      <th>4</th>\n",
              "      <td>4</td>\n",
              "      <td>11</td>\n",
              "      <td>0.147529</td>\n",
              "    </tr>\n",
              "    <tr>\n",
              "      <th>5</th>\n",
              "      <td>5</td>\n",
              "      <td>13</td>\n",
              "      <td>0.118856</td>\n",
              "    </tr>\n",
              "    <tr>\n",
              "      <th>6</th>\n",
              "      <td>6</td>\n",
              "      <td>3</td>\n",
              "      <td>0.623690</td>\n",
              "    </tr>\n",
              "    <tr>\n",
              "      <th>7</th>\n",
              "      <td>7</td>\n",
              "      <td>0</td>\n",
              "      <td>0.638217</td>\n",
              "    </tr>\n",
              "    <tr>\n",
              "      <th>8</th>\n",
              "      <td>8</td>\n",
              "      <td>7</td>\n",
              "      <td>0.803902</td>\n",
              "    </tr>\n",
              "    <tr>\n",
              "      <th>9</th>\n",
              "      <td>9</td>\n",
              "      <td>11</td>\n",
              "      <td>0.281026</td>\n",
              "    </tr>\n",
              "    <tr>\n",
              "      <th>10</th>\n",
              "      <td>10</td>\n",
              "      <td>4</td>\n",
              "      <td>0.240241</td>\n",
              "    </tr>\n",
              "    <tr>\n",
              "      <th>11</th>\n",
              "      <td>11</td>\n",
              "      <td>6</td>\n",
              "      <td>0.736207</td>\n",
              "    </tr>\n",
              "    <tr>\n",
              "      <th>12</th>\n",
              "      <td>12</td>\n",
              "      <td>6</td>\n",
              "      <td>0.448411</td>\n",
              "    </tr>\n",
              "    <tr>\n",
              "      <th>13</th>\n",
              "      <td>13</td>\n",
              "      <td>1</td>\n",
              "      <td>0.652511</td>\n",
              "    </tr>\n",
              "    <tr>\n",
              "      <th>14</th>\n",
              "      <td>14</td>\n",
              "      <td>9</td>\n",
              "      <td>0.639383</td>\n",
              "    </tr>\n",
              "  </tbody>\n",
              "</table>\n",
              "</div>"
            ],
            "text/plain": [
              "     A   B         C\n",
              "0    0   7  0.618879\n",
              "1    1   4  0.128281\n",
              "2    2  10  0.899273\n",
              "3    3   9  0.109899\n",
              "4    4  11  0.147529\n",
              "5    5  13  0.118856\n",
              "6    6   3  0.623690\n",
              "7    7   0  0.638217\n",
              "8    8   7  0.803902\n",
              "9    9  11  0.281026\n",
              "10  10   4  0.240241\n",
              "11  11   6  0.736207\n",
              "12  12   6  0.448411\n",
              "13  13   1  0.652511\n",
              "14  14   9  0.639383"
            ]
          },
          "metadata": {
            "tags": []
          },
          "execution_count": 62
        }
      ]
    },
    {
      "cell_type": "code",
      "metadata": {
        "colab": {
          "base_uri": "https://localhost:8080/",
          "height": 204
        },
        "id": "Wj3zDqbaQ1iP",
        "outputId": "cbcea59a-debe-433a-f97b-8e8c6fbaacfa"
      },
      "source": [
        "data_df.head()"
      ],
      "execution_count": 61,
      "outputs": [
        {
          "output_type": "execute_result",
          "data": {
            "text/html": [
              "<div>\n",
              "<style scoped>\n",
              "    .dataframe tbody tr th:only-of-type {\n",
              "        vertical-align: middle;\n",
              "    }\n",
              "\n",
              "    .dataframe tbody tr th {\n",
              "        vertical-align: top;\n",
              "    }\n",
              "\n",
              "    .dataframe thead th {\n",
              "        text-align: right;\n",
              "    }\n",
              "</style>\n",
              "<table border=\"1\" class=\"dataframe\">\n",
              "  <thead>\n",
              "    <tr style=\"text-align: right;\">\n",
              "      <th></th>\n",
              "      <th>A</th>\n",
              "      <th>B</th>\n",
              "      <th>C</th>\n",
              "    </tr>\n",
              "  </thead>\n",
              "  <tbody>\n",
              "    <tr>\n",
              "      <th>0</th>\n",
              "      <td>0</td>\n",
              "      <td>7</td>\n",
              "      <td>0.618879</td>\n",
              "    </tr>\n",
              "    <tr>\n",
              "      <th>1</th>\n",
              "      <td>1</td>\n",
              "      <td>4</td>\n",
              "      <td>0.128281</td>\n",
              "    </tr>\n",
              "    <tr>\n",
              "      <th>2</th>\n",
              "      <td>2</td>\n",
              "      <td>10</td>\n",
              "      <td>0.899273</td>\n",
              "    </tr>\n",
              "    <tr>\n",
              "      <th>3</th>\n",
              "      <td>3</td>\n",
              "      <td>9</td>\n",
              "      <td>0.109899</td>\n",
              "    </tr>\n",
              "    <tr>\n",
              "      <th>4</th>\n",
              "      <td>4</td>\n",
              "      <td>11</td>\n",
              "      <td>0.147529</td>\n",
              "    </tr>\n",
              "  </tbody>\n",
              "</table>\n",
              "</div>"
            ],
            "text/plain": [
              "   A   B         C\n",
              "0  0   7  0.618879\n",
              "1  1   4  0.128281\n",
              "2  2  10  0.899273\n",
              "3  3   9  0.109899\n",
              "4  4  11  0.147529"
            ]
          },
          "metadata": {
            "tags": []
          },
          "execution_count": 61
        }
      ]
    },
    {
      "cell_type": "code",
      "metadata": {
        "colab": {
          "base_uri": "https://localhost:8080/",
          "height": 204
        },
        "id": "UYYkF47DQ1iP",
        "outputId": "8e9a32b7-6ebe-4b3a-dffb-72e57f010ecc"
      },
      "source": [
        "data_df.tail()"
      ],
      "execution_count": 63,
      "outputs": [
        {
          "output_type": "execute_result",
          "data": {
            "text/html": [
              "<div>\n",
              "<style scoped>\n",
              "    .dataframe tbody tr th:only-of-type {\n",
              "        vertical-align: middle;\n",
              "    }\n",
              "\n",
              "    .dataframe tbody tr th {\n",
              "        vertical-align: top;\n",
              "    }\n",
              "\n",
              "    .dataframe thead th {\n",
              "        text-align: right;\n",
              "    }\n",
              "</style>\n",
              "<table border=\"1\" class=\"dataframe\">\n",
              "  <thead>\n",
              "    <tr style=\"text-align: right;\">\n",
              "      <th></th>\n",
              "      <th>A</th>\n",
              "      <th>B</th>\n",
              "      <th>C</th>\n",
              "    </tr>\n",
              "  </thead>\n",
              "  <tbody>\n",
              "    <tr>\n",
              "      <th>10</th>\n",
              "      <td>10</td>\n",
              "      <td>4</td>\n",
              "      <td>0.240241</td>\n",
              "    </tr>\n",
              "    <tr>\n",
              "      <th>11</th>\n",
              "      <td>11</td>\n",
              "      <td>6</td>\n",
              "      <td>0.736207</td>\n",
              "    </tr>\n",
              "    <tr>\n",
              "      <th>12</th>\n",
              "      <td>12</td>\n",
              "      <td>6</td>\n",
              "      <td>0.448411</td>\n",
              "    </tr>\n",
              "    <tr>\n",
              "      <th>13</th>\n",
              "      <td>13</td>\n",
              "      <td>1</td>\n",
              "      <td>0.652511</td>\n",
              "    </tr>\n",
              "    <tr>\n",
              "      <th>14</th>\n",
              "      <td>14</td>\n",
              "      <td>9</td>\n",
              "      <td>0.639383</td>\n",
              "    </tr>\n",
              "  </tbody>\n",
              "</table>\n",
              "</div>"
            ],
            "text/plain": [
              "     A  B         C\n",
              "10  10  4  0.240241\n",
              "11  11  6  0.736207\n",
              "12  12  6  0.448411\n",
              "13  13  1  0.652511\n",
              "14  14  9  0.639383"
            ]
          },
          "metadata": {
            "tags": []
          },
          "execution_count": 63
        }
      ]
    },
    {
      "cell_type": "code",
      "metadata": {
        "colab": {
          "base_uri": "https://localhost:8080/"
        },
        "id": "cL4HBkkHQ1iP",
        "outputId": "49814752-afbc-4254-9a57-32c91bc8b738"
      },
      "source": [
        "data_df.shape"
      ],
      "execution_count": 64,
      "outputs": [
        {
          "output_type": "execute_result",
          "data": {
            "text/plain": [
              "(15, 3)"
            ]
          },
          "metadata": {
            "tags": []
          },
          "execution_count": 64
        }
      ]
    },
    {
      "cell_type": "markdown",
      "metadata": {
        "id": "EEecgAoJQ1iQ"
      },
      "source": [
        "### Indexing and Slicing"
      ]
    },
    {
      "cell_type": "code",
      "metadata": {
        "colab": {
          "base_uri": "https://localhost:8080/",
          "height": 111
        },
        "id": "IsV0xISdQ1iQ",
        "outputId": "16bee97e-d614-452a-80aa-97ec75618d1e"
      },
      "source": [
        "data_df[1:3]"
      ],
      "execution_count": 65,
      "outputs": [
        {
          "output_type": "execute_result",
          "data": {
            "text/html": [
              "<div>\n",
              "<style scoped>\n",
              "    .dataframe tbody tr th:only-of-type {\n",
              "        vertical-align: middle;\n",
              "    }\n",
              "\n",
              "    .dataframe tbody tr th {\n",
              "        vertical-align: top;\n",
              "    }\n",
              "\n",
              "    .dataframe thead th {\n",
              "        text-align: right;\n",
              "    }\n",
              "</style>\n",
              "<table border=\"1\" class=\"dataframe\">\n",
              "  <thead>\n",
              "    <tr style=\"text-align: right;\">\n",
              "      <th></th>\n",
              "      <th>A</th>\n",
              "      <th>B</th>\n",
              "      <th>C</th>\n",
              "    </tr>\n",
              "  </thead>\n",
              "  <tbody>\n",
              "    <tr>\n",
              "      <th>1</th>\n",
              "      <td>1</td>\n",
              "      <td>4</td>\n",
              "      <td>0.128281</td>\n",
              "    </tr>\n",
              "    <tr>\n",
              "      <th>2</th>\n",
              "      <td>2</td>\n",
              "      <td>10</td>\n",
              "      <td>0.899273</td>\n",
              "    </tr>\n",
              "  </tbody>\n",
              "</table>\n",
              "</div>"
            ],
            "text/plain": [
              "   A   B         C\n",
              "1  1   4  0.128281\n",
              "2  2  10  0.899273"
            ]
          },
          "metadata": {
            "tags": []
          },
          "execution_count": 65
        }
      ]
    },
    {
      "cell_type": "code",
      "metadata": {
        "colab": {
          "base_uri": "https://localhost:8080/"
        },
        "id": "nn7spZOKQ1iQ",
        "outputId": "85f05d18-ad76-4bf6-cb57-7908ff531e5a"
      },
      "source": [
        "data_df.loc[1]"
      ],
      "execution_count": 66,
      "outputs": [
        {
          "output_type": "execute_result",
          "data": {
            "text/plain": [
              "A    1.000000\n",
              "B    4.000000\n",
              "C    0.128281\n",
              "Name: 1, dtype: float64"
            ]
          },
          "metadata": {
            "tags": []
          },
          "execution_count": 66
        }
      ]
    },
    {
      "cell_type": "code",
      "metadata": {
        "colab": {
          "base_uri": "https://localhost:8080/"
        },
        "id": "-jZsfzL7Q1iQ",
        "outputId": "27bc8d5d-16f2-4f36-ccfc-b810ea112634"
      },
      "source": [
        "data_df.loc[1]['C']"
      ],
      "execution_count": 67,
      "outputs": [
        {
          "output_type": "execute_result",
          "data": {
            "text/plain": [
              "0.12828136109562593"
            ]
          },
          "metadata": {
            "tags": []
          },
          "execution_count": 67
        }
      ]
    },
    {
      "cell_type": "code",
      "metadata": {
        "colab": {
          "base_uri": "https://localhost:8080/"
        },
        "id": "mcJrmGfCYebU",
        "outputId": "c2ab96d5-c320-4290-9d7e-07a2332728b2"
      },
      "source": [
        "data_df.loc[1][['B','C']]"
      ],
      "execution_count": 70,
      "outputs": [
        {
          "output_type": "execute_result",
          "data": {
            "text/plain": [
              "B    4.000000\n",
              "C    0.128281\n",
              "Name: 1, dtype: float64"
            ]
          },
          "metadata": {
            "tags": []
          },
          "execution_count": 70
        }
      ]
    },
    {
      "cell_type": "code",
      "metadata": {
        "colab": {
          "base_uri": "https://localhost:8080/"
        },
        "id": "tYmQQ8gFYUVh",
        "outputId": "d40b57ba-8850-4fbf-dc98-6f016774cc11"
      },
      "source": [
        "data_df.iloc[1]"
      ],
      "execution_count": 68,
      "outputs": [
        {
          "output_type": "execute_result",
          "data": {
            "text/plain": [
              "A    1.000000\n",
              "B    4.000000\n",
              "C    0.128281\n",
              "Name: 1, dtype: float64"
            ]
          },
          "metadata": {
            "tags": []
          },
          "execution_count": 68
        }
      ]
    },
    {
      "cell_type": "markdown",
      "metadata": {
        "id": "5k7snzAxQ1iQ"
      },
      "source": [
        "### Add, Remove and etc"
      ]
    },
    {
      "cell_type": "code",
      "metadata": {
        "colab": {
          "base_uri": "https://localhost:8080/",
          "height": 514
        },
        "id": "kVboIIX4Q1iR",
        "outputId": "aa2d4518-0e63-417d-f35c-70551709ebe7"
      },
      "source": [
        "data_df['D'] = data_df['A'] >= 5\n",
        "data_df"
      ],
      "execution_count": 71,
      "outputs": [
        {
          "output_type": "execute_result",
          "data": {
            "text/html": [
              "<div>\n",
              "<style scoped>\n",
              "    .dataframe tbody tr th:only-of-type {\n",
              "        vertical-align: middle;\n",
              "    }\n",
              "\n",
              "    .dataframe tbody tr th {\n",
              "        vertical-align: top;\n",
              "    }\n",
              "\n",
              "    .dataframe thead th {\n",
              "        text-align: right;\n",
              "    }\n",
              "</style>\n",
              "<table border=\"1\" class=\"dataframe\">\n",
              "  <thead>\n",
              "    <tr style=\"text-align: right;\">\n",
              "      <th></th>\n",
              "      <th>A</th>\n",
              "      <th>B</th>\n",
              "      <th>C</th>\n",
              "      <th>D</th>\n",
              "    </tr>\n",
              "  </thead>\n",
              "  <tbody>\n",
              "    <tr>\n",
              "      <th>0</th>\n",
              "      <td>0</td>\n",
              "      <td>7</td>\n",
              "      <td>0.618879</td>\n",
              "      <td>False</td>\n",
              "    </tr>\n",
              "    <tr>\n",
              "      <th>1</th>\n",
              "      <td>1</td>\n",
              "      <td>4</td>\n",
              "      <td>0.128281</td>\n",
              "      <td>False</td>\n",
              "    </tr>\n",
              "    <tr>\n",
              "      <th>2</th>\n",
              "      <td>2</td>\n",
              "      <td>10</td>\n",
              "      <td>0.899273</td>\n",
              "      <td>False</td>\n",
              "    </tr>\n",
              "    <tr>\n",
              "      <th>3</th>\n",
              "      <td>3</td>\n",
              "      <td>9</td>\n",
              "      <td>0.109899</td>\n",
              "      <td>False</td>\n",
              "    </tr>\n",
              "    <tr>\n",
              "      <th>4</th>\n",
              "      <td>4</td>\n",
              "      <td>11</td>\n",
              "      <td>0.147529</td>\n",
              "      <td>False</td>\n",
              "    </tr>\n",
              "    <tr>\n",
              "      <th>5</th>\n",
              "      <td>5</td>\n",
              "      <td>13</td>\n",
              "      <td>0.118856</td>\n",
              "      <td>True</td>\n",
              "    </tr>\n",
              "    <tr>\n",
              "      <th>6</th>\n",
              "      <td>6</td>\n",
              "      <td>3</td>\n",
              "      <td>0.623690</td>\n",
              "      <td>True</td>\n",
              "    </tr>\n",
              "    <tr>\n",
              "      <th>7</th>\n",
              "      <td>7</td>\n",
              "      <td>0</td>\n",
              "      <td>0.638217</td>\n",
              "      <td>True</td>\n",
              "    </tr>\n",
              "    <tr>\n",
              "      <th>8</th>\n",
              "      <td>8</td>\n",
              "      <td>7</td>\n",
              "      <td>0.803902</td>\n",
              "      <td>True</td>\n",
              "    </tr>\n",
              "    <tr>\n",
              "      <th>9</th>\n",
              "      <td>9</td>\n",
              "      <td>11</td>\n",
              "      <td>0.281026</td>\n",
              "      <td>True</td>\n",
              "    </tr>\n",
              "    <tr>\n",
              "      <th>10</th>\n",
              "      <td>10</td>\n",
              "      <td>4</td>\n",
              "      <td>0.240241</td>\n",
              "      <td>True</td>\n",
              "    </tr>\n",
              "    <tr>\n",
              "      <th>11</th>\n",
              "      <td>11</td>\n",
              "      <td>6</td>\n",
              "      <td>0.736207</td>\n",
              "      <td>True</td>\n",
              "    </tr>\n",
              "    <tr>\n",
              "      <th>12</th>\n",
              "      <td>12</td>\n",
              "      <td>6</td>\n",
              "      <td>0.448411</td>\n",
              "      <td>True</td>\n",
              "    </tr>\n",
              "    <tr>\n",
              "      <th>13</th>\n",
              "      <td>13</td>\n",
              "      <td>1</td>\n",
              "      <td>0.652511</td>\n",
              "      <td>True</td>\n",
              "    </tr>\n",
              "    <tr>\n",
              "      <th>14</th>\n",
              "      <td>14</td>\n",
              "      <td>9</td>\n",
              "      <td>0.639383</td>\n",
              "      <td>True</td>\n",
              "    </tr>\n",
              "  </tbody>\n",
              "</table>\n",
              "</div>"
            ],
            "text/plain": [
              "     A   B         C      D\n",
              "0    0   7  0.618879  False\n",
              "1    1   4  0.128281  False\n",
              "2    2  10  0.899273  False\n",
              "3    3   9  0.109899  False\n",
              "4    4  11  0.147529  False\n",
              "5    5  13  0.118856   True\n",
              "6    6   3  0.623690   True\n",
              "7    7   0  0.638217   True\n",
              "8    8   7  0.803902   True\n",
              "9    9  11  0.281026   True\n",
              "10  10   4  0.240241   True\n",
              "11  11   6  0.736207   True\n",
              "12  12   6  0.448411   True\n",
              "13  13   1  0.652511   True\n",
              "14  14   9  0.639383   True"
            ]
          },
          "metadata": {
            "tags": []
          },
          "execution_count": 71
        }
      ]
    },
    {
      "cell_type": "code",
      "metadata": {
        "id": "berkxLRJQ1iR"
      },
      "source": [
        "data_df.drop('D', axis=1, inplace=True)"
      ],
      "execution_count": 72,
      "outputs": []
    },
    {
      "cell_type": "code",
      "metadata": {
        "colab": {
          "base_uri": "https://localhost:8080/",
          "height": 204
        },
        "id": "wPn4gpp2Y0Bk",
        "outputId": "fb8a6c29-e017-49d9-82eb-7c35010fb549"
      },
      "source": [
        "data_df.head()"
      ],
      "execution_count": 74,
      "outputs": [
        {
          "output_type": "execute_result",
          "data": {
            "text/html": [
              "<div>\n",
              "<style scoped>\n",
              "    .dataframe tbody tr th:only-of-type {\n",
              "        vertical-align: middle;\n",
              "    }\n",
              "\n",
              "    .dataframe tbody tr th {\n",
              "        vertical-align: top;\n",
              "    }\n",
              "\n",
              "    .dataframe thead th {\n",
              "        text-align: right;\n",
              "    }\n",
              "</style>\n",
              "<table border=\"1\" class=\"dataframe\">\n",
              "  <thead>\n",
              "    <tr style=\"text-align: right;\">\n",
              "      <th></th>\n",
              "      <th>A</th>\n",
              "      <th>B</th>\n",
              "      <th>C</th>\n",
              "    </tr>\n",
              "  </thead>\n",
              "  <tbody>\n",
              "    <tr>\n",
              "      <th>0</th>\n",
              "      <td>0</td>\n",
              "      <td>7</td>\n",
              "      <td>0.618879</td>\n",
              "    </tr>\n",
              "    <tr>\n",
              "      <th>1</th>\n",
              "      <td>1</td>\n",
              "      <td>4</td>\n",
              "      <td>0.128281</td>\n",
              "    </tr>\n",
              "    <tr>\n",
              "      <th>2</th>\n",
              "      <td>2</td>\n",
              "      <td>10</td>\n",
              "      <td>0.899273</td>\n",
              "    </tr>\n",
              "    <tr>\n",
              "      <th>3</th>\n",
              "      <td>3</td>\n",
              "      <td>9</td>\n",
              "      <td>0.109899</td>\n",
              "    </tr>\n",
              "    <tr>\n",
              "      <th>4</th>\n",
              "      <td>4</td>\n",
              "      <td>11</td>\n",
              "      <td>0.147529</td>\n",
              "    </tr>\n",
              "  </tbody>\n",
              "</table>\n",
              "</div>"
            ],
            "text/plain": [
              "   A   B         C\n",
              "0  0   7  0.618879\n",
              "1  1   4  0.128281\n",
              "2  2  10  0.899273\n",
              "3  3   9  0.109899\n",
              "4  4  11  0.147529"
            ]
          },
          "metadata": {
            "tags": []
          },
          "execution_count": 74
        }
      ]
    },
    {
      "cell_type": "code",
      "metadata": {
        "colab": {
          "base_uri": "https://localhost:8080/",
          "height": 514
        },
        "id": "hzmG-ymiQ1iR",
        "outputId": "d5f3d5c0-fe74-4bab-d8d7-5e1f528c51af"
      },
      "source": [
        "data_df.sort_index(axis=0, ascending=False) # ascending = True : 오름차순 ,False : 내림차순"
      ],
      "execution_count": 75,
      "outputs": [
        {
          "output_type": "execute_result",
          "data": {
            "text/html": [
              "<div>\n",
              "<style scoped>\n",
              "    .dataframe tbody tr th:only-of-type {\n",
              "        vertical-align: middle;\n",
              "    }\n",
              "\n",
              "    .dataframe tbody tr th {\n",
              "        vertical-align: top;\n",
              "    }\n",
              "\n",
              "    .dataframe thead th {\n",
              "        text-align: right;\n",
              "    }\n",
              "</style>\n",
              "<table border=\"1\" class=\"dataframe\">\n",
              "  <thead>\n",
              "    <tr style=\"text-align: right;\">\n",
              "      <th></th>\n",
              "      <th>A</th>\n",
              "      <th>B</th>\n",
              "      <th>C</th>\n",
              "    </tr>\n",
              "  </thead>\n",
              "  <tbody>\n",
              "    <tr>\n",
              "      <th>14</th>\n",
              "      <td>14</td>\n",
              "      <td>9</td>\n",
              "      <td>0.639383</td>\n",
              "    </tr>\n",
              "    <tr>\n",
              "      <th>13</th>\n",
              "      <td>13</td>\n",
              "      <td>1</td>\n",
              "      <td>0.652511</td>\n",
              "    </tr>\n",
              "    <tr>\n",
              "      <th>12</th>\n",
              "      <td>12</td>\n",
              "      <td>6</td>\n",
              "      <td>0.448411</td>\n",
              "    </tr>\n",
              "    <tr>\n",
              "      <th>11</th>\n",
              "      <td>11</td>\n",
              "      <td>6</td>\n",
              "      <td>0.736207</td>\n",
              "    </tr>\n",
              "    <tr>\n",
              "      <th>10</th>\n",
              "      <td>10</td>\n",
              "      <td>4</td>\n",
              "      <td>0.240241</td>\n",
              "    </tr>\n",
              "    <tr>\n",
              "      <th>9</th>\n",
              "      <td>9</td>\n",
              "      <td>11</td>\n",
              "      <td>0.281026</td>\n",
              "    </tr>\n",
              "    <tr>\n",
              "      <th>8</th>\n",
              "      <td>8</td>\n",
              "      <td>7</td>\n",
              "      <td>0.803902</td>\n",
              "    </tr>\n",
              "    <tr>\n",
              "      <th>7</th>\n",
              "      <td>7</td>\n",
              "      <td>0</td>\n",
              "      <td>0.638217</td>\n",
              "    </tr>\n",
              "    <tr>\n",
              "      <th>6</th>\n",
              "      <td>6</td>\n",
              "      <td>3</td>\n",
              "      <td>0.623690</td>\n",
              "    </tr>\n",
              "    <tr>\n",
              "      <th>5</th>\n",
              "      <td>5</td>\n",
              "      <td>13</td>\n",
              "      <td>0.118856</td>\n",
              "    </tr>\n",
              "    <tr>\n",
              "      <th>4</th>\n",
              "      <td>4</td>\n",
              "      <td>11</td>\n",
              "      <td>0.147529</td>\n",
              "    </tr>\n",
              "    <tr>\n",
              "      <th>3</th>\n",
              "      <td>3</td>\n",
              "      <td>9</td>\n",
              "      <td>0.109899</td>\n",
              "    </tr>\n",
              "    <tr>\n",
              "      <th>2</th>\n",
              "      <td>2</td>\n",
              "      <td>10</td>\n",
              "      <td>0.899273</td>\n",
              "    </tr>\n",
              "    <tr>\n",
              "      <th>1</th>\n",
              "      <td>1</td>\n",
              "      <td>4</td>\n",
              "      <td>0.128281</td>\n",
              "    </tr>\n",
              "    <tr>\n",
              "      <th>0</th>\n",
              "      <td>0</td>\n",
              "      <td>7</td>\n",
              "      <td>0.618879</td>\n",
              "    </tr>\n",
              "  </tbody>\n",
              "</table>\n",
              "</div>"
            ],
            "text/plain": [
              "     A   B         C\n",
              "14  14   9  0.639383\n",
              "13  13   1  0.652511\n",
              "12  12   6  0.448411\n",
              "11  11   6  0.736207\n",
              "10  10   4  0.240241\n",
              "9    9  11  0.281026\n",
              "8    8   7  0.803902\n",
              "7    7   0  0.638217\n",
              "6    6   3  0.623690\n",
              "5    5  13  0.118856\n",
              "4    4  11  0.147529\n",
              "3    3   9  0.109899\n",
              "2    2  10  0.899273\n",
              "1    1   4  0.128281\n",
              "0    0   7  0.618879"
            ]
          },
          "metadata": {
            "tags": []
          },
          "execution_count": 75
        }
      ]
    },
    {
      "cell_type": "code",
      "metadata": {
        "id": "1E2EwhIOQ1iR"
      },
      "source": [
        ""
      ],
      "execution_count": null,
      "outputs": []
    }
  ]
}