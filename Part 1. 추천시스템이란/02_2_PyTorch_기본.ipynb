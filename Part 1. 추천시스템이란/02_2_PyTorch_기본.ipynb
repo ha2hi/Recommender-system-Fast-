{
  "nbformat": 4,
  "nbformat_minor": 0,
  "metadata": {
    "accelerator": "GPU",
    "colab": {
      "name": "02-2-PyTorch-기본.ipynb",
      "provenance": [],
      "collapsed_sections": []
    },
    "kernelspec": {
      "display_name": "Python 3",
      "language": "python",
      "name": "python3"
    },
    "language_info": {
      "codemirror_mode": {
        "name": "ipython",
        "version": 3
      },
      "file_extension": ".py",
      "mimetype": "text/x-python",
      "name": "python",
      "nbconvert_exporter": "python",
      "pygments_lexer": "ipython3",
      "version": "3.7.7"
    }
  },
  "cells": [
    {
      "cell_type": "markdown",
      "metadata": {
        "id": "dKoPDCjCVUVn"
      },
      "source": [
        "# Pytorch Basics\n",
        "\n",
        "- Stevens, Antiga and Viehmann (2020), \"Deep Learning with PyTorch\" 참고\n",
        "- PyTorch tutorial website 참고(https://tutorials.pytorch.kr/beginner/deep_learning_60min_blitz.html)"
      ]
    },
    {
      "cell_type": "markdown",
      "metadata": {
        "id": "V-XO4CJ-VdYJ"
      },
      "source": [
        "### **PyTorch**\n",
        "* provides multidimensional arrays\n",
        "* *tensors*, and an extensive *library of operations* on them"
      ]
    },
    {
      "cell_type": "code",
      "metadata": {
        "id": "QwtH-86-VnRs"
      },
      "source": [
        "# torch가 설치되어 있지 않다면\n",
        "# https://pytorch.org 에서 환경에 맞는 command로 설치하거나\n",
        "# !pip install torch\n",
        "# 또는 !pip3 install torch (Python3 환경임을 명시)\n",
        "\n",
        "import torch"
      ],
      "execution_count": 1,
      "outputs": []
    },
    {
      "cell_type": "markdown",
      "metadata": {
        "id": "4isdOwxZbfQy"
      },
      "source": [
        "### 1. Tensor란? Tensor 만들기\n",
        "\n",
        "* Tensors: Multidimensional arrays\n"
      ]
    },
    {
      "cell_type": "code",
      "metadata": {
        "colab": {
          "base_uri": "https://localhost:8080/"
        },
        "id": "Pbbatb8lVBvs",
        "scrolled": true,
        "outputId": "33072549-e33c-4521-8971-5e64050655eb"
      },
      "source": [
        "# Create a torch.Tensor object with the given data.  It is a 1D vector\n",
        "V_data = [1., 2., 3.]\n",
        "V = torch.Tensor(V_data)\n",
        "print(V)\n",
        "\n",
        "# Creates a matrix\n",
        "M_data = [[1., 2., 3.], [4., 5., 6]]\n",
        "M = torch.Tensor(M_data)\n",
        "print(M)\n",
        "\n",
        "# Create a 3D tensor of size 2x2x2.\n",
        "T_data = [[[1.,2.], [3.,4.]],\n",
        "          [[5.,6.], [7.,8.]]]\n",
        "T = torch.Tensor(T_data)\n",
        "print(T)"
      ],
      "execution_count": 2,
      "outputs": [
        {
          "output_type": "stream",
          "text": [
            "tensor([1., 2., 3.])\n",
            "tensor([[1., 2., 3.],\n",
            "        [4., 5., 6.]])\n",
            "tensor([[[1., 2.],\n",
            "         [3., 4.]],\n",
            "\n",
            "        [[5., 6.],\n",
            "         [7., 8.]]])\n"
          ],
          "name": "stdout"
        }
      ]
    },
    {
      "cell_type": "code",
      "metadata": {
        "colab": {
          "base_uri": "https://localhost:8080/"
        },
        "id": "vVc3HcRTc1AD",
        "outputId": "5a6d6289-1d24-4c0d-fbd1-38cf10838d62"
      },
      "source": [
        "# torch.ones: tensor를 size에 맞게 1로 채운다\n",
        "a = torch.ones(3)\n",
        "print(a)\n",
        "\n",
        "b = torch.ones(2, 3)\n",
        "print(b)"
      ],
      "execution_count": 3,
      "outputs": [
        {
          "output_type": "stream",
          "text": [
            "tensor([1., 1., 1.])\n",
            "tensor([[1., 1., 1.],\n",
            "        [1., 1., 1.]])\n"
          ],
          "name": "stdout"
        }
      ]
    },
    {
      "cell_type": "code",
      "metadata": {
        "colab": {
          "base_uri": "https://localhost:8080/"
        },
        "id": "4ju-BJS_dldu",
        "outputId": "f31af4fb-0dfd-4f07-ffd9-f4aacb66d5c1"
      },
      "source": [
        "# torch.zeros: tensor를 size에 맞게 0으로 채운다\n",
        "c = torch.zeros(4)\n",
        "print(c)\n",
        "\n",
        "d = torch.zeros(5, 2, 3)\n",
        "print(d)"
      ],
      "execution_count": 4,
      "outputs": [
        {
          "output_type": "stream",
          "text": [
            "tensor([0., 0., 0., 0.])\n",
            "tensor([[[0., 0., 0.],\n",
            "         [0., 0., 0.]],\n",
            "\n",
            "        [[0., 0., 0.],\n",
            "         [0., 0., 0.]],\n",
            "\n",
            "        [[0., 0., 0.],\n",
            "         [0., 0., 0.]],\n",
            "\n",
            "        [[0., 0., 0.],\n",
            "         [0., 0., 0.]],\n",
            "\n",
            "        [[0., 0., 0.],\n",
            "         [0., 0., 0.]]])\n"
          ],
          "name": "stdout"
        }
      ]
    },
    {
      "cell_type": "code",
      "metadata": {
        "colab": {
          "base_uri": "https://localhost:8080/"
        },
        "id": "87ZmUgIUtmD4",
        "outputId": "b232da7a-11c9-47c0-bdb7-c30fe0e54688"
      },
      "source": [
        "# 초기화하면서 현재 메모리에 존재하는 값\n",
        "x = torch.empty(5, 3)\n",
        "print(x)\n",
        "\n",
        "x = torch.rand(5, 3)\n",
        "print(x)"
      ],
      "execution_count": 5,
      "outputs": [
        {
          "output_type": "stream",
          "text": [
            "tensor([[6.9253e-07, 3.0798e-41, 3.3631e-44],\n",
            "        [0.0000e+00,        nan, 0.0000e+00],\n",
            "        [1.1578e+27, 1.1362e+30, 7.1547e+22],\n",
            "        [4.5828e+30, 1.2121e+04, 7.1846e+22],\n",
            "        [9.2198e-39, 7.0374e+22, 0.0000e+00]])\n",
            "tensor([[0.6193, 0.6329, 0.0915],\n",
            "        [0.9011, 0.5644, 0.0034],\n",
            "        [0.8490, 0.1703, 0.8419],\n",
            "        [0.3380, 0.6976, 0.8357],\n",
            "        [0.4180, 0.5685, 0.8651]])\n"
          ],
          "name": "stdout"
        }
      ]
    },
    {
      "cell_type": "code",
      "metadata": {
        "colab": {
          "base_uri": "https://localhost:8080/"
        },
        "id": "LGi1jp7VqN2I",
        "outputId": "7e3d7998-0906-4e72-eafc-ff8badeb9678"
      },
      "source": [
        "# torch.rand: 랜덤 숫자로 tensor를 채운다\n",
        "rand_points = torch.rand(4, dtype=torch.double)\n",
        "print(rand_points)\n",
        "\n",
        "rand_points_2 = torch.rand(2, 3, dtype=torch.float)\n",
        "print(rand_points_2)"
      ],
      "execution_count": 6,
      "outputs": [
        {
          "output_type": "stream",
          "text": [
            "tensor([0.9605, 0.1979, 0.5061, 0.0060], dtype=torch.float64)\n",
            "tensor([[0.5223, 0.5454, 0.0640],\n",
            "        [0.0586, 0.7982, 0.2815]])\n"
          ],
          "name": "stdout"
        }
      ]
    },
    {
      "cell_type": "code",
      "metadata": {
        "colab": {
          "base_uri": "https://localhost:8080/"
        },
        "id": "UJnoxrSKtmD7",
        "outputId": "45846fd3-b144-4bab-ad66-da5c4df15497"
      },
      "source": [
        "# 행렬 사이즈\n",
        "print(rand_points_2.size())"
      ],
      "execution_count": 7,
      "outputs": [
        {
          "output_type": "stream",
          "text": [
            "torch.Size([2, 3])\n"
          ],
          "name": "stdout"
        }
      ]
    },
    {
      "cell_type": "markdown",
      "metadata": {
        "id": "8oKuS5aSduU8"
      },
      "source": [
        "### 2. Indexing Tensors"
      ]
    },
    {
      "cell_type": "code",
      "metadata": {
        "colab": {
          "base_uri": "https://localhost:8080/"
        },
        "id": "neAw8Z6xdr4b",
        "outputId": "b44d0855-bc29-4f14-e5e2-c10a0518e714"
      },
      "source": [
        "temp = torch.Tensor([0, 1, 2, 3, 4, 5, 6, 7])\n",
        "\n",
        "print(temp[:]) # tensor element 전체\n",
        "print(temp[1:4]) # index 1과 4 사이의 원소들 출력\n",
        "print(temp[1:]) # index 1부터의 원소들 출력\n",
        "print(temp[:4]) # index 4까지의 원소들 출력\n",
        "print(temp[-1]) # 뒤에서 첫번째 원소 출력\n",
        "print(temp[:-1]) # index -1 = 뒤에서부터 index 1에 해당하는 원소까지만 출력\n",
        "print(temp[1:6:2]) # index 1과 6 사이의 원소 출력, 이때 2개 단위로 건너뛰면서"
      ],
      "execution_count": 8,
      "outputs": [
        {
          "output_type": "stream",
          "text": [
            "tensor([0., 1., 2., 3., 4., 5., 6., 7.])\n",
            "tensor([1., 2., 3.])\n",
            "tensor([1., 2., 3., 4., 5., 6., 7.])\n",
            "tensor([0., 1., 2., 3.])\n",
            "tensor(7.)\n",
            "tensor([0., 1., 2., 3., 4., 5., 6.])\n",
            "tensor([1., 3., 5.])\n"
          ],
          "name": "stdout"
        }
      ]
    },
    {
      "cell_type": "code",
      "metadata": {
        "colab": {
          "base_uri": "https://localhost:8080/"
        },
        "id": "4WO5sfMIet7x",
        "outputId": "f9812cca-562e-468e-d52b-18b6e2b12ca9"
      },
      "source": [
        "temp2 = torch.Tensor([[1, 2, 3], [4, 5, 6]])\n",
        "\n",
        "print(temp2)\n",
        "print(temp2[1:])\n",
        "print(temp2[1:, 1:])\n",
        "print(temp2[1:, 0])"
      ],
      "execution_count": 9,
      "outputs": [
        {
          "output_type": "stream",
          "text": [
            "tensor([[1., 2., 3.],\n",
            "        [4., 5., 6.]])\n",
            "tensor([[4., 5., 6.]])\n",
            "tensor([[5., 6.]])\n",
            "tensor([4.])\n"
          ],
          "name": "stdout"
        }
      ]
    },
    {
      "cell_type": "markdown",
      "metadata": {
        "id": "S_udPVfjfomz"
      },
      "source": [
        "## 3. Tensor element types\n",
        "\n",
        "add 'dtype' argument to tensor constructors \n",
        "\n",
        "-> specify the data type that will be contained in the tensor\n",
        "\n",
        "dtype을 구성하는 것:\n",
        "- possible values the tensor can hold (int, float, ...)\n",
        "- number of bytes per value (8, 16, 32, ...)\n",
        "\n",
        "예)\n",
        "\n",
        "- torch.float32 (= torch.float): 32-bit floating point\n",
        "\n",
        "- torch.float64 (= torch.double): 64-bit, double-precision floating point\n",
        "\n",
        "- torch.float16 (= torch.half): 16-bit, half-precision floating point\n",
        "\n",
        "- torch.int32 (= torch.int): 32-bit integers\n",
        "\n",
        "- torch.int64 (= torch.long): 64-bit integers\n",
        "\n",
        "- torch.bool: Boolean\n",
        "\n",
        "...\n",
        "\n"
      ]
    },
    {
      "cell_type": "code",
      "metadata": {
        "colab": {
          "base_uri": "https://localhost:8080/"
        },
        "id": "rgq_coZiiWSs",
        "outputId": "218c3e62-1618-475e-fca4-faa70e97eca5"
      },
      "source": [
        "float_points = torch.ones(5, 2, dtype=torch.float32)\n",
        "int_points = torch.zeros(3, dtype=torch.int64)\n",
        "\n",
        "print(float_points)\n",
        "print(int_points)"
      ],
      "execution_count": 10,
      "outputs": [
        {
          "output_type": "stream",
          "text": [
            "tensor([[1., 1.],\n",
            "        [1., 1.],\n",
            "        [1., 1.],\n",
            "        [1., 1.],\n",
            "        [1., 1.]])\n",
            "tensor([0, 0, 0])\n"
          ],
          "name": "stdout"
        }
      ]
    },
    {
      "cell_type": "code",
      "metadata": {
        "colab": {
          "base_uri": "https://localhost:8080/"
        },
        "id": "po8KyFFaj30-",
        "outputId": "c9ca4986-58cf-40c7-993e-fce22f4cce0d"
      },
      "source": [
        "# default: float\n",
        "default_points = torch.Tensor([2, 2])\n",
        "print(default_points)"
      ],
      "execution_count": 11,
      "outputs": [
        {
          "output_type": "stream",
          "text": [
            "tensor([2., 2.])\n"
          ],
          "name": "stdout"
        }
      ]
    },
    {
      "cell_type": "code",
      "metadata": {
        "colab": {
          "base_uri": "https://localhost:8080/"
        },
        "id": "XMaXu5o_j6-s",
        "outputId": "837f7134-e537-4ffb-b4bb-e3a67010e67b"
      },
      "source": [
        "# find out dtype\n",
        "print(float_points.dtype)\n",
        "print(int_points.dtype)\n",
        "print(default_points.dtype)"
      ],
      "execution_count": 12,
      "outputs": [
        {
          "output_type": "stream",
          "text": [
            "torch.float32\n",
            "torch.int64\n",
            "torch.float32\n"
          ],
          "name": "stdout"
        }
      ]
    },
    {
      "cell_type": "code",
      "metadata": {
        "colab": {
          "base_uri": "https://localhost:8080/"
        },
        "id": "mwFvF367kT-U",
        "outputId": "76d4f978-fc9f-4dd1-c559-cb1dfdece9ef"
      },
      "source": [
        "# other forms of specifying dtype\n",
        "\n",
        "to_int_1 = float_points.int()\n",
        "print(to_int_1.dtype)\n",
        "\n",
        "# 'to' checks whether the conversion is necessary and if so, does it.\n",
        "to_int_2 = float_points.to(torch.int64)\n",
        "print(to_int_2.dtype)\n",
        "\n",
        "to_float_1 = int_points.float()\n",
        "print(to_float_1.dtype)\n",
        "\n",
        "to_float_2 = int_points.to(dtype=torch.float16)\n",
        "print(to_float_2.dtype)\n"
      ],
      "execution_count": 13,
      "outputs": [
        {
          "output_type": "stream",
          "text": [
            "torch.int32\n",
            "torch.int64\n",
            "torch.float32\n",
            "torch.float16\n"
          ],
          "name": "stdout"
        }
      ]
    },
    {
      "cell_type": "markdown",
      "metadata": {
        "id": "M2Ho6YMFljQo"
      },
      "source": [
        "## 4. The Tensor API\n",
        "\n",
        "tensor와 관련된 대부분의 operation은 torch 모듈에 구현되어 있음\n",
        "\n",
        "예)\n",
        "\n",
        "- math operations: abs, cos, mean, std, norm, equal, max, ...\n",
        "- tensor element-wise sum, concat, ...\n",
        "- random sampling: randn, normal, ...\n",
        "\n",
        "online docs: https://pytorch.org/docs\n"
      ]
    },
    {
      "cell_type": "markdown",
      "metadata": {
        "id": "OfPHhJsnmJQe"
      },
      "source": [
        "## 5. Tensor Shape and Reshape\n"
      ]
    },
    {
      "cell_type": "code",
      "metadata": {
        "colab": {
          "base_uri": "https://localhost:8080/"
        },
        "id": "rVeNlalxn2Cw",
        "outputId": "bd90f5b4-4167-4472-9a84-002f3b511198"
      },
      "source": [
        "# shape: Returns the size of the tensor\n",
        "\n",
        "a = torch.Tensor([[1, 2, 3], [4, 5, 6]])\n",
        "\n",
        "print(a)\n",
        "print(a.shape)\n"
      ],
      "execution_count": 14,
      "outputs": [
        {
          "output_type": "stream",
          "text": [
            "tensor([[1., 2., 3.],\n",
            "        [4., 5., 6.]])\n",
            "torch.Size([2, 3])\n"
          ],
          "name": "stdout"
        }
      ]
    },
    {
      "cell_type": "code",
      "metadata": {
        "colab": {
          "base_uri": "https://localhost:8080/"
        },
        "id": "6UUPsdOLrCW6",
        "outputId": "037e9942-2376-486f-f3ec-8a077d5d636c"
      },
      "source": [
        "# size()\n",
        "\n",
        "print(a.size())"
      ],
      "execution_count": 16,
      "outputs": [
        {
          "output_type": "stream",
          "text": [
            "torch.Size([2, 3])\n"
          ],
          "name": "stdout"
        }
      ]
    },
    {
      "cell_type": "code",
      "metadata": {
        "colab": {
          "base_uri": "https://localhost:8080/"
        },
        "id": "Ot2sY3g0oawP",
        "outputId": "79d1ae1d-2b44-4837-e3ce-4b0fe3e618a5"
      },
      "source": [
        "# Reshape: 주어진 shape로 original tensor에서 데이터를 가져와서 reshape한다\n",
        "\n",
        "a_reshape = a.reshape(3, 2)\n",
        "print(a_reshape)\n",
        "print(a_reshape.shape)\n",
        "\n",
        "a_reshape_2 = a.reshape(-1, 2) # the size -1 is inferred from other dimensions\n",
        "print(a_reshape_2)\n",
        "print(a_reshape_2.shape)"
      ],
      "execution_count": 15,
      "outputs": [
        {
          "output_type": "stream",
          "text": [
            "tensor([[1., 2.],\n",
            "        [3., 4.],\n",
            "        [5., 6.]])\n",
            "torch.Size([3, 2])\n",
            "tensor([[1., 2.],\n",
            "        [3., 4.],\n",
            "        [5., 6.]])\n",
            "torch.Size([3, 2])\n"
          ],
          "name": "stdout"
        }
      ]
    },
    {
      "cell_type": "code",
      "metadata": {
        "colab": {
          "base_uri": "https://localhost:8080/",
          "height": 181
        },
        "id": "jmZpgwXfpDx-",
        "outputId": "126a15cd-3f00-46a0-8c52-6c87f2342640"
      },
      "source": [
        "# if shape is not compatible with the current shape:\n",
        "a_no_reshape = a.reshape(4, 2)"
      ],
      "execution_count": 17,
      "outputs": [
        {
          "output_type": "error",
          "ename": "RuntimeError",
          "evalue": "ignored",
          "traceback": [
            "\u001b[0;31m---------------------------------------------------------------------------\u001b[0m",
            "\u001b[0;31mRuntimeError\u001b[0m                              Traceback (most recent call last)",
            "\u001b[0;32m<ipython-input-17-1e7ad2969007>\u001b[0m in \u001b[0;36m<module>\u001b[0;34m()\u001b[0m\n\u001b[1;32m      1\u001b[0m \u001b[0;31m# if shape is not compatible with the current shape:\u001b[0m\u001b[0;34m\u001b[0m\u001b[0;34m\u001b[0m\u001b[0;34m\u001b[0m\u001b[0m\n\u001b[0;32m----> 2\u001b[0;31m \u001b[0ma_no_reshape\u001b[0m \u001b[0;34m=\u001b[0m \u001b[0ma\u001b[0m\u001b[0;34m.\u001b[0m\u001b[0mreshape\u001b[0m\u001b[0;34m(\u001b[0m\u001b[0;36m4\u001b[0m\u001b[0;34m,\u001b[0m \u001b[0;36m2\u001b[0m\u001b[0;34m)\u001b[0m\u001b[0;34m\u001b[0m\u001b[0;34m\u001b[0m\u001b[0m\n\u001b[0m",
            "\u001b[0;31mRuntimeError\u001b[0m: shape '[4, 2]' is invalid for input of size 6"
          ]
        }
      ]
    },
    {
      "cell_type": "code",
      "metadata": {
        "colab": {
          "base_uri": "https://localhost:8080/"
        },
        "id": "l7YPGgQTpnWN",
        "outputId": "9c232d25-04e1-4bf8-847a-1e17e452e342"
      },
      "source": [
        "# View: Returns a new tensor with the same data as the original tensor but of a different shape.\n",
        "# reshape과 거의 비슷하게 사용\n",
        "\n",
        "x = torch.randn(4, 4)\n",
        "print(x.size())\n",
        "\n",
        "y = x.view(16)\n",
        "print(y.size())\n",
        "\n",
        "z = x.view(-1, 8)  # the size -1 is inferred from other dimensions\n",
        "print(z.size())"
      ],
      "execution_count": 18,
      "outputs": [
        {
          "output_type": "stream",
          "text": [
            "torch.Size([4, 4])\n",
            "torch.Size([16])\n",
            "torch.Size([2, 8])\n"
          ],
          "name": "stdout"
        }
      ]
    },
    {
      "cell_type": "code",
      "metadata": {
        "colab": {
          "base_uri": "https://localhost:8080/"
        },
        "id": "NmvbQbf4wWI4",
        "outputId": "cca67617-f1ad-4b90-fd90-d9e869c82dda"
      },
      "source": [
        "print(x)\n",
        "print(y)"
      ],
      "execution_count": 19,
      "outputs": [
        {
          "output_type": "stream",
          "text": [
            "tensor([[-0.8540, -1.1755,  1.6058, -0.5673],\n",
            "        [-0.7852,  0.5356, -0.4262,  0.2763],\n",
            "        [-1.3621, -0.5509,  0.2736, -1.7409],\n",
            "        [ 1.3203, -0.6167, -1.0484, -2.8411]])\n",
            "tensor([-0.8540, -1.1755,  1.6058, -0.5673, -0.7852,  0.5356, -0.4262,  0.2763,\n",
            "        -1.3621, -0.5509,  0.2736, -1.7409,  1.3203, -0.6167, -1.0484, -2.8411])\n"
          ],
          "name": "stdout"
        }
      ]
    },
    {
      "cell_type": "code",
      "metadata": {
        "colab": {
          "base_uri": "https://localhost:8080/"
        },
        "id": "DmZaDfH6wewO",
        "outputId": "c6f4eafe-31cc-4b11-df2e-c0af508ce8e7"
      },
      "source": [
        "print(z)"
      ],
      "execution_count": 20,
      "outputs": [
        {
          "output_type": "stream",
          "text": [
            "tensor([[-0.8540, -1.1755,  1.6058, -0.5673, -0.7852,  0.5356, -0.4262,  0.2763],\n",
            "        [-1.3621, -0.5509,  0.2736, -1.7409,  1.3203, -0.6167, -1.0484, -2.8411]])\n"
          ],
          "name": "stdout"
        }
      ]
    },
    {
      "cell_type": "markdown",
      "metadata": {
        "id": "NaRU1c5Er3r-"
      },
      "source": [
        "## 6. Transpose"
      ]
    },
    {
      "cell_type": "code",
      "metadata": {
        "colab": {
          "base_uri": "https://localhost:8080/"
        },
        "id": "R0-zLDjYsyyG",
        "outputId": "a27d0bf8-4fb5-461a-8028-b39d7fe0c7a6"
      },
      "source": [
        "# torch.t: 가장 간단한 형태의 transpose\n",
        "# Expects input to be <= 2-D tensor and transposes dimensions 0 and 1.\n",
        "# 0-D and 1-D tensors are returned as is. When input is a 2-D tensor this is equivalent to transpose(input, 0, 1).\n",
        "\n",
        "x = torch.randn(1)\n",
        "print(x)\n",
        "print(torch.t(x))\n",
        "\n",
        "y = torch.randn(3)\n",
        "print(y)\n",
        "print(y.t())\n",
        "\n",
        "z = torch.randn(2, 3)\n",
        "print(z)\n",
        "print(torch.t(z))"
      ],
      "execution_count": 21,
      "outputs": [
        {
          "output_type": "stream",
          "text": [
            "tensor([-0.7638])\n",
            "tensor([-0.7638])\n",
            "tensor([-0.6015, -1.5288, -0.7320])\n",
            "tensor([-0.6015, -1.5288, -0.7320])\n",
            "tensor([[ 0.1746, -1.0584,  0.2222],\n",
            "        [-0.1215, -0.0499, -2.1132]])\n",
            "tensor([[ 0.1746, -0.1215],\n",
            "        [-1.0584, -0.0499],\n",
            "        [ 0.2222, -2.1132]])\n"
          ],
          "name": "stdout"
        }
      ]
    },
    {
      "cell_type": "code",
      "metadata": {
        "colab": {
          "base_uri": "https://localhost:8080/"
        },
        "id": "RjM2mMhbs8Tc",
        "outputId": "661a8b7f-d6b7-4a91-984a-38f42d35a6fd"
      },
      "source": [
        "# torch.transpose\n",
        "# Returns a tensor that is a transposed version of input. The given dimensions dim0 and dim1 are swapped.\n",
        "\n",
        "w = torch.randn(2, 3)\n",
        "print(w)\n",
        "print(torch.transpose(w, 0, 1))"
      ],
      "execution_count": 22,
      "outputs": [
        {
          "output_type": "stream",
          "text": [
            "tensor([[-0.4891, -0.3114, -1.7208],\n",
            "        [ 1.9880, -0.4228, -0.9773]])\n",
            "tensor([[-0.4891,  1.9880],\n",
            "        [-0.3114, -0.4228],\n",
            "        [-1.7208, -0.9773]])\n"
          ],
          "name": "stdout"
        }
      ]
    },
    {
      "cell_type": "code",
      "metadata": {
        "colab": {
          "base_uri": "https://localhost:8080/"
        },
        "id": "XLJ41HTAtoHL",
        "outputId": "f651a962-33e4-47f4-f3a8-4a9f71c787d8"
      },
      "source": [
        "# more complex case\n",
        "\n",
        "real_example = torch.randn(64, 128, 768)\n",
        "print(real_example.shape)\n",
        "transposed = torch.transpose(real_example, 1, 2)\n",
        "print(transposed.shape)"
      ],
      "execution_count": 23,
      "outputs": [
        {
          "output_type": "stream",
          "text": [
            "torch.Size([64, 128, 768])\n",
            "torch.Size([64, 768, 128])\n"
          ],
          "name": "stdout"
        }
      ]
    },
    {
      "cell_type": "markdown",
      "metadata": {
        "id": "ZUXYqCB7tmEZ"
      },
      "source": [
        "## 7. Operations Example"
      ]
    },
    {
      "cell_type": "code",
      "metadata": {
        "colab": {
          "base_uri": "https://localhost:8080/"
        },
        "id": "cvQoHEY9tmEZ",
        "outputId": "16a58533-ff0a-4797-e879-8dc4352baa06"
      },
      "source": [
        "x = torch.ones(1, 2)\n",
        "print(x)\n",
        "y = torch.ones(5, 3)\n",
        "print(y)"
      ],
      "execution_count": 24,
      "outputs": [
        {
          "output_type": "stream",
          "text": [
            "tensor([[1., 1.]])\n",
            "tensor([[1., 1., 1.],\n",
            "        [1., 1., 1.],\n",
            "        [1., 1., 1.],\n",
            "        [1., 1., 1.],\n",
            "        [1., 1., 1.]])\n"
          ],
          "name": "stdout"
        }
      ]
    },
    {
      "cell_type": "code",
      "metadata": {
        "colab": {
          "base_uri": "https://localhost:8080/",
          "height": 164
        },
        "id": "z4bTwkNdtmEZ",
        "outputId": "15f7c431-2239-4ad3-c1ed-40a41191462a"
      },
      "source": [
        "print(x+y)"
      ],
      "execution_count": 25,
      "outputs": [
        {
          "output_type": "error",
          "ename": "RuntimeError",
          "evalue": "ignored",
          "traceback": [
            "\u001b[0;31m---------------------------------------------------------------------------\u001b[0m",
            "\u001b[0;31mRuntimeError\u001b[0m                              Traceback (most recent call last)",
            "\u001b[0;32m<ipython-input-25-39cb3db33052>\u001b[0m in \u001b[0;36m<module>\u001b[0;34m()\u001b[0m\n\u001b[0;32m----> 1\u001b[0;31m \u001b[0mprint\u001b[0m\u001b[0;34m(\u001b[0m\u001b[0mx\u001b[0m\u001b[0;34m+\u001b[0m\u001b[0my\u001b[0m\u001b[0;34m)\u001b[0m\u001b[0;34m\u001b[0m\u001b[0;34m\u001b[0m\u001b[0m\n\u001b[0m",
            "\u001b[0;31mRuntimeError\u001b[0m: The size of tensor a (2) must match the size of tensor b (3) at non-singleton dimension 1"
          ]
        }
      ]
    },
    {
      "cell_type": "code",
      "metadata": {
        "colab": {
          "base_uri": "https://localhost:8080/"
        },
        "id": "zWNf7Tm5tmEa",
        "outputId": "4e1832c5-8f43-4915-c4bd-b8208210bcaa"
      },
      "source": [
        "y = torch.ones(5, 2)\n",
        "print(y)\n",
        "\n",
        "# 1.\n",
        "print(x+y)\n",
        "# 2. \n",
        "print(torch.add(x, y))\n",
        "# 3.\n",
        "result = torch.empty(5, 2)\n",
        "torch.add(x, y, out=result)\n",
        "print(result)\n",
        "# 4. inplace\n",
        "print(y.add_(x))"
      ],
      "execution_count": 26,
      "outputs": [
        {
          "output_type": "stream",
          "text": [
            "tensor([[1., 1.],\n",
            "        [1., 1.],\n",
            "        [1., 1.],\n",
            "        [1., 1.],\n",
            "        [1., 1.]])\n",
            "tensor([[2., 2.],\n",
            "        [2., 2.],\n",
            "        [2., 2.],\n",
            "        [2., 2.],\n",
            "        [2., 2.]])\n",
            "tensor([[2., 2.],\n",
            "        [2., 2.],\n",
            "        [2., 2.],\n",
            "        [2., 2.],\n",
            "        [2., 2.]])\n",
            "tensor([[2., 2.],\n",
            "        [2., 2.],\n",
            "        [2., 2.],\n",
            "        [2., 2.],\n",
            "        [2., 2.]])\n",
            "tensor([[2., 2.],\n",
            "        [2., 2.],\n",
            "        [2., 2.],\n",
            "        [2., 2.],\n",
            "        [2., 2.]])\n"
          ],
          "name": "stdout"
        }
      ]
    },
    {
      "cell_type": "markdown",
      "metadata": {
        "id": "CZwM60bPtmEb"
      },
      "source": [
        "### Additional Information\n",
        "- torch 연산(transpose, indexing, slicing, mathematical operations, linear algebra 등)은 아래 링크에서 추가로 확인 가능\n",
        "- https://pytorch.org/docs/stable/torch.html"
      ]
    },
    {
      "cell_type": "markdown",
      "metadata": {
        "id": "qjumWQBhuKsn"
      },
      "source": [
        "### Reference: Moving tensors to the GPU\n",
        "\n",
        "if you are using Google Colaboratory, please set the runtime type to GPUs.\n",
        "\n",
        "화면 상단 **런타임 >> 런타임 유형 변경 >> 하드웨어 가속기 GPU 선택**\n"
      ]
    },
    {
      "cell_type": "code",
      "metadata": {
        "colab": {
          "base_uri": "https://localhost:8080/"
        },
        "id": "0rbIkD7jtmEe",
        "outputId": "232548e9-8a0f-422f-a1be-8d683b849b81"
      },
      "source": [
        "torch.cuda.is_available()"
      ],
      "execution_count": 27,
      "outputs": [
        {
          "output_type": "execute_result",
          "data": {
            "text/plain": [
              "True"
            ]
          },
          "metadata": {
            "tags": []
          },
          "execution_count": 27
        }
      ]
    },
    {
      "cell_type": "code",
      "metadata": {
        "colab": {
          "base_uri": "https://localhost:8080/"
        },
        "id": "5QxizvAxu8df",
        "outputId": "70dac9de-38e1-4607-9ea1-ab1ccc864006"
      },
      "source": [
        "import torch # 런타임 유형을 변경하면 colab 세션이 초기화될 수 있음\n",
        "\n",
        "points_gpu = torch.tensor([[4.0, 1.0], [5.0, 3.0], [2.0, 1.0]], device='cuda')\n",
        "\n",
        "print(points_gpu)"
      ],
      "execution_count": 28,
      "outputs": [
        {
          "output_type": "stream",
          "text": [
            "tensor([[4., 1.],\n",
            "        [5., 3.],\n",
            "        [2., 1.]], device='cuda:0')\n"
          ],
          "name": "stdout"
        }
      ]
    },
    {
      "cell_type": "code",
      "metadata": {
        "id": "of1nZPe-wThd"
      },
      "source": [
        "points = torch.randn(2, 3)\n",
        "points_gpu = points.to(device='cuda')\n",
        "\n",
        "print(points_gpu)"
      ],
      "execution_count": null,
      "outputs": []
    },
    {
      "cell_type": "markdown",
      "metadata": {
        "id": "hvPB3ixRwKQu"
      },
      "source": [
        "If our machine has more than one GPU, we can also decide on which GPU we allocate the tensor by passing a zero-based integer identifying the GPU on the machine, such as cuda:0, cuda:1, ..."
      ]
    },
    {
      "cell_type": "code",
      "metadata": {
        "id": "r24Gocegv7l6"
      },
      "source": [
        "points_gpu_0 = points.to(device='cuda:0')\n",
        "print(points_gpu_0)"
      ],
      "execution_count": null,
      "outputs": []
    },
    {
      "cell_type": "code",
      "metadata": {
        "id": "nx9QcSKdwo07"
      },
      "source": [
        "# operations performed on CPU and GPU\n",
        "\n",
        "points = 2 * points   # cpu에서 계산 수행\n",
        "print(points)\n",
        "\n",
        "points_op_gpu = 2 * points.to(device='cuda')  # gpu에서 계산 수행\n",
        "print(points_op_gpu)"
      ],
      "execution_count": null,
      "outputs": []
    },
    {
      "cell_type": "code",
      "metadata": {
        "id": "JSeaQodKw6cS"
      },
      "source": [
        "# move the tensor back to the CPU\n",
        "\n",
        "points_cpu = points_gpu_0.to(device='cpu')\n",
        "print(points_cpu)\n",
        "print(points_cpu.device)"
      ],
      "execution_count": null,
      "outputs": []
    },
    {
      "cell_type": "code",
      "metadata": {
        "id": "RIjlkk3nxn9j"
      },
      "source": [
        "# shorter forms\n",
        "points_gpu = points.cuda()\n",
        "print(points_gpu)\n",
        "\n",
        "points_gpu = points.cuda(0)\n",
        "print(points_gpu)\n",
        "\n",
        "points_cpu = points_gpu.cpu()\n",
        "print(points_cpu)"
      ],
      "execution_count": null,
      "outputs": []
    },
    {
      "cell_type": "markdown",
      "metadata": {
        "id": "v03s7CHNx0Yz"
      },
      "source": [
        "## 8. Numpy Interpretability\n",
        "\n",
        "PyTorch tensors can be converted to NumPy arrays and vice versa very efficiently."
      ]
    },
    {
      "cell_type": "code",
      "metadata": {
        "colab": {
          "base_uri": "https://localhost:8080/"
        },
        "id": "Ak0fmFWOx3ij",
        "outputId": "97319a7e-e99a-47cd-afa7-c72e8925c669"
      },
      "source": [
        "# tensor to numpy array\n",
        "\n",
        "points = torch.ones(3, 4)\n",
        "points_np = points.numpy()\n",
        "\n",
        "print(points_np)"
      ],
      "execution_count": 29,
      "outputs": [
        {
          "output_type": "stream",
          "text": [
            "[[1. 1. 1. 1.]\n",
            " [1. 1. 1. 1.]\n",
            " [1. 1. 1. 1.]]\n"
          ],
          "name": "stdout"
        }
      ]
    },
    {
      "cell_type": "code",
      "metadata": {
        "colab": {
          "base_uri": "https://localhost:8080/"
        },
        "id": "KqVhZHmwx5AU",
        "outputId": "38e14fbc-ae4f-40b1-9f0f-c1aabd60a6aa"
      },
      "source": [
        "type(points_np)"
      ],
      "execution_count": 30,
      "outputs": [
        {
          "output_type": "execute_result",
          "data": {
            "text/plain": [
              "numpy.ndarray"
            ]
          },
          "metadata": {
            "tags": []
          },
          "execution_count": 30
        }
      ]
    },
    {
      "cell_type": "code",
      "metadata": {
        "colab": {
          "base_uri": "https://localhost:8080/"
        },
        "id": "ACS2KBbWyJDZ",
        "outputId": "6d6dbaea-618d-4979-83d5-a589007f39d9"
      },
      "source": [
        "# numpy arrray to tensor\n",
        "\n",
        "points = torch.from_numpy(points_np)\n",
        "\n",
        "print(points)"
      ],
      "execution_count": 31,
      "outputs": [
        {
          "output_type": "stream",
          "text": [
            "tensor([[1., 1., 1., 1.],\n",
            "        [1., 1., 1., 1.],\n",
            "        [1., 1., 1., 1.]])\n"
          ],
          "name": "stdout"
        }
      ]
    },
    {
      "cell_type": "markdown",
      "metadata": {
        "id": "qKvQhwT9yVJp"
      },
      "source": [
        "## 9. Save and load tensors\n",
        "\n",
        "save tensors to a file and load them back at some point\n",
        "\n",
        "PyTorch uses pickle under the hood to serialize the tensor object, plus dedicated serialization code for the storage."
      ]
    },
    {
      "cell_type": "code",
      "metadata": {
        "id": "Spxqbf_kyYaa"
      },
      "source": [
        "print(points)\n",
        "\n",
        "torch.save(points, './points_temp.t')"
      ],
      "execution_count": null,
      "outputs": []
    },
    {
      "cell_type": "code",
      "metadata": {
        "id": "m59EIW7p0N-2"
      },
      "source": [
        "load_points = torch.load('./points_temp.t')\n",
        "print(load_points)"
      ],
      "execution_count": null,
      "outputs": []
    }
  ]
}